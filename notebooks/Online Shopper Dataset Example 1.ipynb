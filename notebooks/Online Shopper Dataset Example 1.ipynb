{
 "cells": [
  {
   "cell_type": "markdown",
   "metadata": {},
   "source": [
    "# Online shopper datasample examples\n",
    "## this notebook contains some examples using Numpy, Pandas and Matplotlib\n",
    "\n",
    "\n",
    "Data Source: https://archive.ics.uci.edu/ml/datasets/Online+Shoppers+Purchasing+Intention+Dataset\n",
    "        \n",
    "Description: <a href=\"..\\data\\Online shoppers - Description.pdf\">Online shoppers - Description.pdf</a>"
   ]
  },
  {
   "cell_type": "code",
   "execution_count": null,
   "metadata": {},
   "outputs": [],
   "source": [
    "#import the tools:numpy,pandas and matplotlib\n",
    "%matplotlib inline\n",
    "import numpy as np\n",
    "import pandas as pd\n",
    "import matplotlib.pyplot as plt"
   ]
  },
  {
   "cell_type": "code",
   "execution_count": null,
   "metadata": {},
   "outputs": [],
   "source": [
    "# read the data into a pandas dataframe and show the fist five line\n",
    "data = pd.read_csv(\"..\\data\\online_shoppers.csv\")\n",
    "data.head()"
   ]
  },
  {
   "cell_type": "code",
   "execution_count": null,
   "metadata": {},
   "outputs": [],
   "source": [
    "type(data)"
   ]
  },
  {
   "cell_type": "code",
   "execution_count": null,
   "metadata": {},
   "outputs": [],
   "source": [
    "data.columns"
   ]
  },
  {
   "cell_type": "markdown",
   "metadata": {},
   "source": [
    "## Numpy examples"
   ]
  },
  {
   "cell_type": "code",
   "execution_count": null,
   "metadata": {},
   "outputs": [],
   "source": [
    "# Create a function to display the array attributes and data (optinally).  \n",
    "#  Note the use of the default value for the show_data parameter.  Made\n",
    "#  this part of the display optional (and off by default) to support large\n",
    "#  arrays (that you wouldn't want to try to show explicitly)\n",
    "def show(the_array, show_data = 0):\n",
    "    print(\"  Dimension: {:}\".format(the_array.ndim))\n",
    "    print(\"       Size: {:}\".format(the_array.size))\n",
    "    print(\"      Shape: {:}\".format(the_array.shape))    \n",
    "    print(\"  Data Type: {:}\".format(the_array.dtype))    \n",
    "    print(\"  Item Size: {:}\".format(the_array.itemsize))\n",
    "    print(\"Data Buffer: {:}\".format(the_array.data))\n",
    "    if show_data:\n",
    "        print(the_array)"
   ]
  },
  {
   "cell_type": "markdown",
   "metadata": {},
   "source": [
    "### Show some statistics of attribute[Administrative]\n",
    "#### \"Administrative\" is the Number of pages visited by the visitor about account management, so we want to check how the shoppers use this kind of page"
   ]
  },
  {
   "cell_type": "code",
   "execution_count": null,
   "metadata": {},
   "outputs": [],
   "source": [
    "#get a pandas series which takes column [Administrative]\n",
    "ad = data['Administrative']\n",
    "# ad"
   ]
  },
  {
   "cell_type": "code",
   "execution_count": null,
   "metadata": {},
   "outputs": [],
   "source": [
    "print(\"Max value in Administrative  : {:0.2f}  \".format(np.max(ad)))\n",
    "print(\"Min value in Administrative  : {:0.2f} \".format(np.min(ad)))\n",
    "print(\"Mean value in Administrative : {:0.2f} \".format(np.mean(ad)))\n",
    "print(\"The std in Administrative    : {:0.2f} \".format(np.std(ad)))\n"
   ]
  },
  {
   "cell_type": "code",
   "execution_count": null,
   "metadata": {},
   "outputs": [],
   "source": [
    "# count how many shoppers at least enter Administrative page once.\n",
    "print(\"{} shoppers at least enter Administrative page once \".format(np.count_nonzero(ad)))\n",
    "# count how many shoppers at least enter Administrative page more than twice.\n",
    "print(\"{} shoppers at least enter Administrative page more than twice \".format(np.count_nonzero(ad>2)))"
   ]
  },
  {
   "cell_type": "markdown",
   "metadata": {},
   "source": [
    "### Transfor several columns into Numpy array and show the array attributes\n",
    "#### After transfering the columns into Numpy array, we can use the manipulation methods provided by Numpy array"
   ]
  },
  {
   "cell_type": "code",
   "execution_count": null,
   "metadata": {},
   "outputs": [],
   "source": [
    "B_and_E = np.array(data[['BounceRates','ExitRates']])\n",
    "show(B_and_E)"
   ]
  },
  {
   "cell_type": "markdown",
   "metadata": {},
   "source": [
    "### Data slicing for Numpy array"
   ]
  },
  {
   "cell_type": "code",
   "execution_count": null,
   "metadata": {},
   "outputs": [],
   "source": [
    "# create a data slice for the 3rd and 4th line of [BounceRates] and [ExitRates]\n",
    "slice1 = B_and_E[2:4, :2]\n",
    "slice1"
   ]
  },
  {
   "cell_type": "markdown",
   "metadata": {},
   "source": [
    "### We may also be interested in the attribute[ProductRelated] which is the number of pages visited by visitor about product related pages\n",
    "#### We will check how many shoppers visit the productrelated pages, what is the average number visited by shoppers and what is the average time spend by those shopper"
   ]
  },
  {
   "cell_type": "code",
   "execution_count": null,
   "metadata": {},
   "outputs": [],
   "source": [
    "pdct = data['ProductRelated']\n",
    "# the total number of pages visited by shoppers\n",
    "pdct_sum = np.sum(pdct)\n",
    "# compute the number of shoppers who at least enter product related page once\n",
    "pdct_nzero = np.count_nonzero(pdct)\n",
    "# compute the total amount of time those shopper spend in the product related page\n",
    "d_pdct_nzero = np.sum(data[pdct>0]['ProductRelated_Duration'])\n",
    "# compute the average\n",
    "avg = d_pdct_nzero/pdct_nzero\n",
    "\n",
    "#print result\n",
    "print(\"{} shoopers at least enter product related page once\".format(pdct_nzero))\n",
    "print(\"For those shoppers who at least visit product related page once, the average number of product related pages visited is {:f} \".format(pdct_sum/pdct_nzero))\n",
    "print(\"{:0.2f} seconds those shoppers spend in the product related page\".format(d_pdct_nzero))\n",
    "print(\"The average time spend in the product related page if a shopper visit that page is {:0.2f} seconds\".format(avg))"
   ]
  },
  {
   "cell_type": "code",
   "execution_count": null,
   "metadata": {},
   "outputs": [],
   "source": []
  },
  {
   "cell_type": "markdown",
   "metadata": {},
   "source": [
    "## Pandas examples"
   ]
  },
  {
   "cell_type": "markdown",
   "metadata": {},
   "source": [
    "### Use Pandas describe function to see the statistics for all numerical attributes"
   ]
  },
  {
   "cell_type": "code",
   "execution_count": null,
   "metadata": {},
   "outputs": [],
   "source": [
    "data.describe()"
   ]
  },
  {
   "cell_type": "markdown",
   "metadata": {},
   "source": [
    "### Use pandas embeded function to compute some statistics in attribute [Administrative]\n",
    "#### We will get the same values as we we use the Numpy to computed the statistics above"
   ]
  },
  {
   "cell_type": "code",
   "execution_count": null,
   "metadata": {},
   "outputs": [],
   "source": [
    "# use pandas embeded function to compute some statistics in attribute [Administrative]\n",
    "print(\"Max value in Administrative  : {:0.2f} \".format(data['Administrative'].max()))\n",
    "print(\"Min value in Administrative  : {:0.2f} \".format(data['Administrative'].min()))\n",
    "print(\"Mean value in Administrative : {:0.2f} \".format(data['Administrative'].mean()))\n",
    "print(\"The std in Administrative    : {:0.2f}\".format(data['Administrative'].std()))"
   ]
  },
  {
   "cell_type": "markdown",
   "metadata": {},
   "source": [
    "### Add a column to show the total time a shopper spend in all kinds of pages"
   ]
  },
  {
   "cell_type": "code",
   "execution_count": null,
   "metadata": {},
   "outputs": [],
   "source": [
    "#add a column[Total_Duration] to show hoy much total time (Administrative_Duration + Informational_Duration + ProductRelated_Duration) a shopper spend\n",
    "A_D = data['Administrative_Duration']\n",
    "I_D = data['Informational_Duration']\n",
    "P_D = data['ProductRelated_Duration']\n",
    "data['Total_Duration'] = A_D + I_D + P_D\n",
    "data.head()"
   ]
  },
  {
   "cell_type": "markdown",
   "metadata": {},
   "source": [
    "### Show the total time (hours) shoppers spend in different region\n",
    "#### If we want to know which region the shopper are more likely to shop online"
   ]
  },
  {
   "cell_type": "code",
   "execution_count": null,
   "metadata": {},
   "outputs": [],
   "source": [
    "# show the total time shoppers spend in different region in hours\n",
    "data.groupby('Region')['Total_Duration'].sum()/ 3600"
   ]
  },
  {
   "cell_type": "markdown",
   "metadata": {},
   "source": [
    "#### Then we check whether the shopper in region 1 really have a higher percentage end up withing buying something"
   ]
  },
  {
   "cell_type": "code",
   "execution_count": null,
   "metadata": {},
   "outputs": [],
   "source": [
    "# The number of shoppper in region1\n",
    "region1_shopper_a = data[data['Region'] == 1]['Index'].size\n",
    "# The number of shoppers end up buying somthing in region1\n",
    "region1_shopper_b = data[(data['Region'] == 1) &( data['Revenue'] == True)]['Index'].size\n",
    "# The number of shoppers in other regions \n",
    "regiono_shopper_a = data[data['Region'] != 1]['Index'].size\n",
    "# The number of shoppers in other regions end up buying something\n",
    "regiono_shopper_b = data[(data['Region'] != 1) & (data['Revenue'] == True)]['Index'].size\n",
    "\n",
    "print(\"There is {:0.2f} percent of shoppers in region1 buy products\".format(region1_shopper_b/region1_shopper_a))\n",
    "print(\"There is {:0.2f} percent of shoppers in other regions(not region1) buy products\".format(regiono_shopper_b/regiono_shopper_a))"
   ]
  },
  {
   "cell_type": "markdown",
   "metadata": {},
   "source": [
    "#### So we can find that there may be no particular difference between the shopper in region1 and other regions"
   ]
  },
  {
   "cell_type": "code",
   "execution_count": null,
   "metadata": {},
   "outputs": [],
   "source": []
  },
  {
   "cell_type": "markdown",
   "metadata": {},
   "source": [
    "### Show how many shoppers shop on weekend and weekday\n",
    "#### We may want to see whether there will be more shoppers shop in weekend"
   ]
  },
  {
   "cell_type": "code",
   "execution_count": null,
   "metadata": {},
   "outputs": [],
   "source": [
    "#show how many shoppers shop on weekend and weekday\n",
    "weekend = data[data['Weekend']==True]['Index'].count()\n",
    "weekday = data[data['Weekend']==False]['Index'].count()\n",
    "print(\"{} shoppers shop in weekend\".format(weekend))\n",
    "print(\"{} shoppers shop in weekday\".format(weekday))"
   ]
  },
  {
   "cell_type": "markdown",
   "metadata": {},
   "source": [
    "### Show how many shoppers finally buy something on weekend and weekday"
   ]
  },
  {
   "cell_type": "code",
   "execution_count": null,
   "metadata": {},
   "outputs": [],
   "source": [
    "# show how many shoppers finally buy something on weekend and weekday\n",
    "weekend_buy = data[(data['Weekend']==True) & (data['Revenue']==True)]['Index'].count()\n",
    "weekday_buy = data[(data['Weekend']==False) & (data['Revenue']==True)]['Index'].count()\n",
    "print(\"{} shoppers buy something in weekend\".format(weekend_buy))\n",
    "print(\"{} shoppers buy something in weekday\".format(weekday_buy))"
   ]
  },
  {
   "cell_type": "markdown",
   "metadata": {},
   "source": [
    "### Show how many shoppers shop in different month\n",
    "#### We may also interest in how many shoppers shop in different month and we decide which month could be a good sales promotion month"
   ]
  },
  {
   "cell_type": "code",
   "execution_count": null,
   "metadata": {},
   "outputs": [],
   "source": [
    "# Show how many shoppers shop in different month\n",
    "data.groupby('Month')['Index'].count()"
   ]
  },
  {
   "cell_type": "markdown",
   "metadata": {},
   "source": [
    "### Show the number of shoppers shop in different operating systems and browsers\n",
    "#### From this result, we can find the preference of browsers of shoppers in each region"
   ]
  },
  {
   "cell_type": "code",
   "execution_count": null,
   "metadata": {},
   "outputs": [],
   "source": [
    "# show the number of shoppers shop in different operating system and browsers\n",
    "data.groupby(['OperatingSystems','Browser'])['Index'].size()"
   ]
  },
  {
   "cell_type": "markdown",
   "metadata": {},
   "source": [
    "### show mean and median of total_duration among different visitortype\n",
    "#### We are interested whether there are some differences among different visitortype"
   ]
  },
  {
   "cell_type": "code",
   "execution_count": null,
   "metadata": {},
   "outputs": [],
   "source": [
   ]
  },
  {
   "cell_type": "code",
   "execution_count": null,
   "metadata": {},
   "outputs": [],
   "source": [
    "# Whether each type of visitors have similiar behaviors in different regions\n",
    "data.groupby(['VisitorType','Region'])['Total_Duration'].aggregate(['mean','median'])"
   ]
  },
  {
   "cell_type": "markdown",
   "metadata": {},
   "source": [
    "## Matplotlib examples"
   ]
  },
  {
   "cell_type": "markdown",
   "metadata": {},
   "source": [
    "### Plot a histogram of the Region of shoppers"
   ]
  },
  {
   "cell_type": "code",
   "execution_count": null,
   "metadata": {},
   "outputs": [],
   "source": [
    "# plot a histogram of the Region of shoppers\n",
    "Reg = data['Region']\n",
    "plt.hist(Reg);"
   ]
  },
  {
   "cell_type": "markdown",
   "metadata": {},
   "source": [
    "### A scatter plot of the number of shoppers in different operatingsystem-browser combination"
   ]
  },
  {
   "cell_type": "code",
   "execution_count": null,
   "metadata": {},
   "outputs": [],
   "source": [
    "colors =range(42)\n",
    "#create a new dataframe \n",
    "new_df = data.groupby(['OperatingSystems','Browser'])['Index'].size().reset_index(name ='shopper numbers')\n",
    "x = np.array(new_df['OperatingSystems']) # x-axis value\n",
    "y = np.array(new_df['Browser']) # y-axis value\n",
    "sizes = np.array(new_df['shopper numbers'])\n",
    "plt.rcParams['figure.figsize'] = (15.0, 10.0) #figure size\n",
    "plt.scatter(x, y, c=colors, s=sizes, alpha=0.9)\n",
    "plt.colorbar()  # show color scale\n",
    "\n",
    "plt.title('shopper numbers in different OperatingSystems and browsers',fontsize = 25)\n",
    "plt.xlabel('Operating system #',fontsize = 20)\n",
    "plt.ylabel('Browser #',fontsize = 20)\n",
    "plt.xticks(fontsize=20)\n",
    "plt.yticks(fontsize=15);"
   ]
  },
  {
   "cell_type": "markdown",
   "metadata": {},
   "source": [
    "### A Pie chart of the number of shoppers on weekend and weekdays"
   ]
  },
  {
   "cell_type": "code",
   "execution_count": null,
   "metadata": {},
   "outputs": [],
   "source": [
    "labels = 'Weekend','Weekday'  # labels for pie chart\n",
    "sizes = [weekend,weekday]    # the size(number) for each label\n",
    "\n",
    "# optional parameters\n",
    "plt.rcParams['figure.figsize'] = (20.0, 9.0) #figure size\n",
    "colors = ['gold', 'yellowgreen']\n",
    "explode = (0,0.1)\n",
    "\n",
    "#plot without optinal parameters\n",
    "plt.subplot(1, 2, 1)\n",
    "plt.pie(sizes, labels=labels) \n",
    "\n",
    "#plot with optional parameters to make the plot more better for view\n",
    "plt.subplot(1, 2, 2)\n",
    "patches, texts, autotexts = plt.pie(sizes, explode=explode, labels=labels, colors=colors,\n",
    "        autopct='%1.1f%%', shadow=True, startangle=30) "
   ]
  },
  {
   "cell_type": "markdown",
   "metadata": {},
   "source": [
    "###  A barplot of the shoppers number by month value"
   ]
  },
  {
   "cell_type": "code",
   "execution_count": null,
   "metadata": {},
   "outputs": [],
   "source": [
    "# basic barplot\n",
    "#re-ordered the month sequence\n",
    "month = data.groupby('Month')['Index'].size().reset_index(name = 'Shoppers number')\n",
    "month['Month_No'] = [8,12,2,7,6,3,5,11,10,9]\n",
    "month_ordered = month.sort_values(by='Month_No')\n",
    "\n",
    "#plot the distribution\n",
    "month_label = ('Feb','Mar','May','June','Jul','Aug','Sep','Oct','Nov','Dec')\n",
    "fig,ax = plt.subplots(figsize=(20,10))\n",
    "plt.bar(month_label,month_ordered['Shoppers number'])\n",
    "plt.ylabel('Shoppers number',fontsize = 20)\n",
    "plt.title('Number of shoppers in month distribution',fontsize = 20)\n",
    "plt.xticks(fontsize=20)\n",
    "plt.yticks(fontsize=15)"
   ]
  },
  {
   "cell_type": "code",
   "execution_count": null,
   "metadata": {},
   "outputs": [],
   "source": [
    "#add a monthly mean value line\n",
    "#plot the distribution\n",
    "month_label = ('Feb','Mar','May','June','Jul','Aug','Sep','Oct','Nov','Dec')\n",
    "fig,ax = plt.subplots(figsize=(20,10))\n",
    "plt.bar(month_label,month_ordered['Shoppers number'])\n",
    "plt.ylabel('Shoppers number',fontsize = 20)\n",
    "plt.title('Number of shoppers in month distribution',fontsize = 20)\n",
    "plt.xticks(fontsize=20)\n",
    "plt.yticks(fontsize=15)\n",
    "#plot the mean value line\n",
    "mean = month_ordered['Shoppers number'].mean()\n",
    "ax.axhline(mean,color = 'red')"
   ]
  },
  {
   "cell_type": "code",
   "execution_count": null,
   "metadata": {},
   "outputs": [],
   "source": [
    "#add a legend to the monthly number and the average monthly number\n",
    "#plot the distribution\n",
    "month_label = ('Feb','Mar','May','June','Jul','Aug','Sep','Oct','Nov','Dec')\n",
    "fig,ax = plt.subplots(figsize=(20,10))\n",
    "plt.bar(month_label,month_ordered['Shoppers number'])\n",
    "plt.ylabel('Shoppers number',fontsize = 20)\n",
    "plt.title('Number of shoppers in month distribution',fontsize = 20)\n",
    "plt.xticks(fontsize=20)\n",
    "plt.yticks(fontsize=15)\n",
    "\n",
    "#plot the mean value line\n",
    "mean = month_ordered['Shoppers number'].mean()\n",
    "ax.axhline(mean,color = 'red')\n",
    "\n",
    "#plot lengend\n",
    "import matplotlib.patches as mpatches\n",
    "import matplotlib.lines as mlines\n",
    "monthly_num = mpatches.Patch(color='blue', label='The monthly numbers')\n",
    "monthly_avg = mlines.Line2D([],[], color='red', label='monthly average')\n",
    "plt.legend(handles=[monthly_avg,monthly_num],loc=2)"
   ]
  }
 ],
 "metadata": {
  "kernelspec": {
   "display_name": "Python 3",
   "language": "python",
   "name": "python3"
  },
  "language_info": {
   "codemirror_mode": {
    "name": "ipython",
    "version": 3
   },
   "file_extension": ".py",
   "mimetype": "text/x-python",
   "name": "python",
   "nbconvert_exporter": "python",
   "pygments_lexer": "ipython3",
   "version": "3.7.3"
  }
 },
 "nbformat": 4,
 "nbformat_minor": 2
}
