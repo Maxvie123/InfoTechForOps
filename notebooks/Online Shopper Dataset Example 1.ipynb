{
 "cells": [
  {
   "cell_type": "markdown",
   "metadata": {},
   "source": [
    "# Online shopper datasample examples\n",
    "## this notebook contains some examples using Numpy, Pandas and Matplotlib\n",
    "\n",
    "\n",
    "Data Source: https://archive.ics.uci.edu/ml/datasets/Online+Shoppers+Purchasing+Intention+Dataset\n",
    "        \n",
    "Description: <a href=\"..\\data\\Online shoppers - Description.pdf\">Online shoppers - Description.pdf</a>"
   ]
  },
  {
   "cell_type": "code",
   "execution_count": 2,
   "metadata": {},
   "outputs": [],
   "source": [
    "#import the tools:numpy,pandas and matplotlib\n",
    "%matplotlib inline\n",
    "import numpy as np\n",
    "import pandas as pd\n",
    "import matplotlib.pyplot as plt"
   ]
  },
  {
   "cell_type": "code",
   "execution_count": 3,
   "metadata": {},
   "outputs": [
    {
     "data": {
      "text/html": [
       "<div>\n",
       "<style scoped>\n",
       "    .dataframe tbody tr th:only-of-type {\n",
       "        vertical-align: middle;\n",
       "    }\n",
       "\n",
       "    .dataframe tbody tr th {\n",
       "        vertical-align: top;\n",
       "    }\n",
       "\n",
       "    .dataframe thead th {\n",
       "        text-align: right;\n",
       "    }\n",
       "</style>\n",
       "<table border=\"1\" class=\"dataframe\">\n",
       "  <thead>\n",
       "    <tr style=\"text-align: right;\">\n",
       "      <th></th>\n",
       "      <th>Index</th>\n",
       "      <th>Administrative</th>\n",
       "      <th>Administrative_Duration</th>\n",
       "      <th>Informational</th>\n",
       "      <th>Informational_Duration</th>\n",
       "      <th>ProductRelated</th>\n",
       "      <th>ProductRelated_Duration</th>\n",
       "      <th>BounceRates</th>\n",
       "      <th>ExitRates</th>\n",
       "      <th>PageValues</th>\n",
       "      <th>SpecialDay</th>\n",
       "      <th>Month</th>\n",
       "      <th>OperatingSystems</th>\n",
       "      <th>Browser</th>\n",
       "      <th>Region</th>\n",
       "      <th>TrafficType</th>\n",
       "      <th>VisitorType</th>\n",
       "      <th>Weekend</th>\n",
       "      <th>Revenue</th>\n",
       "    </tr>\n",
       "  </thead>\n",
       "  <tbody>\n",
       "    <tr>\n",
       "      <th>0</th>\n",
       "      <td>0</td>\n",
       "      <td>0</td>\n",
       "      <td>0.0</td>\n",
       "      <td>0</td>\n",
       "      <td>0.0</td>\n",
       "      <td>1</td>\n",
       "      <td>0.000000</td>\n",
       "      <td>0.20</td>\n",
       "      <td>0.20</td>\n",
       "      <td>0.0</td>\n",
       "      <td>0.0</td>\n",
       "      <td>Feb</td>\n",
       "      <td>1</td>\n",
       "      <td>1</td>\n",
       "      <td>1</td>\n",
       "      <td>1</td>\n",
       "      <td>Returning_Visitor</td>\n",
       "      <td>False</td>\n",
       "      <td>False</td>\n",
       "    </tr>\n",
       "    <tr>\n",
       "      <th>1</th>\n",
       "      <td>1</td>\n",
       "      <td>0</td>\n",
       "      <td>0.0</td>\n",
       "      <td>0</td>\n",
       "      <td>0.0</td>\n",
       "      <td>2</td>\n",
       "      <td>64.000000</td>\n",
       "      <td>0.00</td>\n",
       "      <td>0.10</td>\n",
       "      <td>0.0</td>\n",
       "      <td>0.0</td>\n",
       "      <td>Feb</td>\n",
       "      <td>2</td>\n",
       "      <td>2</td>\n",
       "      <td>1</td>\n",
       "      <td>2</td>\n",
       "      <td>Returning_Visitor</td>\n",
       "      <td>False</td>\n",
       "      <td>False</td>\n",
       "    </tr>\n",
       "    <tr>\n",
       "      <th>2</th>\n",
       "      <td>2</td>\n",
       "      <td>0</td>\n",
       "      <td>0.0</td>\n",
       "      <td>0</td>\n",
       "      <td>0.0</td>\n",
       "      <td>1</td>\n",
       "      <td>0.000000</td>\n",
       "      <td>0.20</td>\n",
       "      <td>0.20</td>\n",
       "      <td>0.0</td>\n",
       "      <td>0.0</td>\n",
       "      <td>Feb</td>\n",
       "      <td>4</td>\n",
       "      <td>1</td>\n",
       "      <td>9</td>\n",
       "      <td>3</td>\n",
       "      <td>Returning_Visitor</td>\n",
       "      <td>False</td>\n",
       "      <td>False</td>\n",
       "    </tr>\n",
       "    <tr>\n",
       "      <th>3</th>\n",
       "      <td>3</td>\n",
       "      <td>0</td>\n",
       "      <td>0.0</td>\n",
       "      <td>0</td>\n",
       "      <td>0.0</td>\n",
       "      <td>2</td>\n",
       "      <td>2.666667</td>\n",
       "      <td>0.05</td>\n",
       "      <td>0.14</td>\n",
       "      <td>0.0</td>\n",
       "      <td>0.0</td>\n",
       "      <td>Feb</td>\n",
       "      <td>3</td>\n",
       "      <td>2</td>\n",
       "      <td>2</td>\n",
       "      <td>4</td>\n",
       "      <td>Returning_Visitor</td>\n",
       "      <td>False</td>\n",
       "      <td>False</td>\n",
       "    </tr>\n",
       "    <tr>\n",
       "      <th>4</th>\n",
       "      <td>4</td>\n",
       "      <td>0</td>\n",
       "      <td>0.0</td>\n",
       "      <td>0</td>\n",
       "      <td>0.0</td>\n",
       "      <td>10</td>\n",
       "      <td>627.500000</td>\n",
       "      <td>0.02</td>\n",
       "      <td>0.05</td>\n",
       "      <td>0.0</td>\n",
       "      <td>0.0</td>\n",
       "      <td>Feb</td>\n",
       "      <td>3</td>\n",
       "      <td>3</td>\n",
       "      <td>1</td>\n",
       "      <td>4</td>\n",
       "      <td>Returning_Visitor</td>\n",
       "      <td>True</td>\n",
       "      <td>False</td>\n",
       "    </tr>\n",
       "  </tbody>\n",
       "</table>\n",
       "</div>"
      ],
      "text/plain": [
       "   Index  Administrative  Administrative_Duration  Informational  \\\n",
       "0      0               0                      0.0              0   \n",
       "1      1               0                      0.0              0   \n",
       "2      2               0                      0.0              0   \n",
       "3      3               0                      0.0              0   \n",
       "4      4               0                      0.0              0   \n",
       "\n",
       "   Informational_Duration  ProductRelated  ProductRelated_Duration  \\\n",
       "0                     0.0               1                 0.000000   \n",
       "1                     0.0               2                64.000000   \n",
       "2                     0.0               1                 0.000000   \n",
       "3                     0.0               2                 2.666667   \n",
       "4                     0.0              10               627.500000   \n",
       "\n",
       "   BounceRates  ExitRates  PageValues  SpecialDay Month  OperatingSystems  \\\n",
       "0         0.20       0.20         0.0         0.0   Feb                 1   \n",
       "1         0.00       0.10         0.0         0.0   Feb                 2   \n",
       "2         0.20       0.20         0.0         0.0   Feb                 4   \n",
       "3         0.05       0.14         0.0         0.0   Feb                 3   \n",
       "4         0.02       0.05         0.0         0.0   Feb                 3   \n",
       "\n",
       "   Browser  Region  TrafficType        VisitorType  Weekend  Revenue  \n",
       "0        1       1            1  Returning_Visitor    False    False  \n",
       "1        2       1            2  Returning_Visitor    False    False  \n",
       "2        1       9            3  Returning_Visitor    False    False  \n",
       "3        2       2            4  Returning_Visitor    False    False  \n",
       "4        3       1            4  Returning_Visitor     True    False  "
      ]
     },
     "execution_count": 3,
     "metadata": {},
     "output_type": "execute_result"
    }
   ],
   "source": [
    "# read the data into a pandas dataframe and show the fist five line\n",
    "data = pd.read_csv(\"..\\data\\online_shoppers.csv\")\n",
    "data.head()"
   ]
  },
  {
   "cell_type": "markdown",
   "metadata": {},
   "source": [
    "## Numpy examples"
   ]
  },
  {
   "cell_type": "markdown",
   "metadata": {},
   "source": [
    "### show some statistics"
   ]
  },
  {
   "cell_type": "code",
   "execution_count": 4,
   "metadata": {},
   "outputs": [
    {
     "name": "stdout",
     "output_type": "stream",
     "text": [
      "Max value in Administrative is 27.00  \n",
      "Min value in Administrative is 0.00 \n",
      "Mean value in Administrative is 2.32 \n",
      "The std in Administrative is 3.32 \n"
     ]
    }
   ],
   "source": [
    "# some statistics in attribute [Administrative]\n",
    "ad = data['Administrative']\n",
    "print(\"Max value in Administrative is {:0.2f}  \".format(np.max(ad)))\n",
    "print(\"Min value in Administrative is {:0.2f} \".format(np.min(ad)))\n",
    "print(\"Mean value in Administrative is {:0.2f} \".format(np.mean(ad)))\n",
    "print(\"The std in Administrative is {:0.2f} \".format(np.std(ad)))"
   ]
  },
  {
   "cell_type": "code",
   "execution_count": null,
   "metadata": {},
   "outputs": [],
   "source": []
  },
  {
   "cell_type": "code",
   "execution_count": null,
   "metadata": {},
   "outputs": [],
   "source": [
    "### "
   ]
  },
  {
   "cell_type": "code",
   "execution_count": null,
   "metadata": {},
   "outputs": [],
   "source": [
    "# count how many shoppers at least enter Administrative page once.\n",
    "print(\"{} shoppers at least enter Administrative page once \".format(np.count_nonzero(ad)))\n",
    "# count how many shoppers at least enter Administrative page more than twice.\n",
    "print(\"{} shoppers at least enter Administrative page more than twice \".format(np.count_nonzero(ad>2)))"
   ]
  },
  {
   "cell_type": "code",
   "execution_count": null,
   "metadata": {},
   "outputs": [],
   "source": [
    "# compute the average ProductRelated_Duration among those shoppers who at least enter product related page once.\n",
    "\n",
    "pdct = data['ProductRelated']\n",
    "# compute the number of shoppers who at least enter product related page once\n",
    "pdct_nzero = np.count_nonzero(pdct)\n",
    "# compute the total amount of time those shopper spend in the product related page\n",
    "d_pdct_nzero = np.sum(data[pdct>0]['ProductRelated_Duration'])\n",
    "# compute the average\n",
    "avg = d_pdct_nzero/pdct_nzero\n",
    "\n",
    "#print result\n",
    "print(\"{} shoopers at least enter product related page once\".format(pdct_nzero))\n",
    "print(\"{:0.2f} seconds those shoppers spend in the product related page\".format(d_pdct_nzero))\n",
    "print(\"The average time spend in the product related page if a shopper visit that page is %.2f\" %avg)"
   ]
  },
  {
   "cell_type": "markdown",
   "metadata": {},
   "source": [
    "## Pandas examples"
   ]
  },
  {
   "cell_type": "code",
   "execution_count": null,
   "metadata": {},
   "outputs": [],
   "source": [
    "# Use Pandas describe function to see the statistics for all numerical attributes\n",
    "data.describe()"
   ]
  },
  {
   "cell_type": "code",
   "execution_count": null,
   "metadata": {},
   "outputs": [],
   "source": [
    "#add a column[Total_Duration] to show hoy much total time (Administrative_Duration + Informational_Duration + ProductRelated_Duration) a shopper spend\n",
    "A_D = data['Administrative_Duration']\n",
    "I_D = data['Informational_Duration']\n",
    "P_D = data['ProductRelated_Duration']\n",
    "data['Total_Duration'] = A_D + I_D + P_D\n",
    "data.head()"
   ]
  },
  {
   "cell_type": "code",
   "execution_count": null,
   "metadata": {},
   "outputs": [],
   "source": [
    "# use pandas embeded function to compute some statistics in attribute [Administrative]\n",
    "print(\"Max value in Administrative:  \",data['Administrative'].max())\n",
    "print(\"Min value in Administrative:  \",data['Administrative'].min())\n",
    "print(\"Mean value in Administrative:  \",data['Administrative'].mean())\n",
    "print(\"The std in Administrative:  \",data['Administrative'].std())"
   ]
  },
  {
   "cell_type": "code",
   "execution_count": null,
   "metadata": {},
   "outputs": [],
   "source": [
    "#show how many shoppers shop on weekend and weekday\n",
    "weekend = data[data['Weekend']==True]['Index'].count()\n",
    "weekday = data[data['Weekend']==False]['Index'].count()\n",
    "print(\"{} shoppers shop in weekend\".format(weekend))\n",
    "print(\"{} shoppers shop in weekday\".format(weekday))"
   ]
  },
  {
   "cell_type": "code",
   "execution_count": null,
   "metadata": {},
   "outputs": [],
   "source": [
    "# show how many shoppers finally buy something on weekend and weekday\n",
    "weekend_buy = data[(data['Weekend']==True) & (data['Revenue']==True)]['Index'].count()\n",
    "weekday_buy = data[(data['Weekend']==False) & (data['Revenue']==True)]['Index'].count()\n",
    "print(\"{} shoppers buy something in weekend\".format(weekend_buy))\n",
    "print(\"{} shoppers buy something in weekday\".format(weekday_buy))"
   ]
  },
  {
   "cell_type": "code",
   "execution_count": null,
   "metadata": {},
   "outputs": [],
   "source": [
    "# Show how many shoppers shop in each month\n",
    "data.groupby('Month')['Index'].count()"
   ]
  },
  {
   "cell_type": "code",
   "execution_count": null,
   "metadata": {},
   "outputs": [],
   "source": [
    "# show the total time shoppers spend in region in hours\n",
    "data.groupby('Region')['Total_Duration'].sum()/ 3600"
   ]
  },
  {
   "cell_type": "code",
   "execution_count": null,
   "metadata": {},
   "outputs": [],
   "source": [
    "# show the number of shoppers shop in different operating system and browsers\n",
    "data.groupby(['OperatingSystems','Browser'])['Index'].size()"
   ]
  },
  {
   "cell_type": "code",
   "execution_count": null,
   "metadata": {},
   "outputs": [],
   "source": [
    "# show mean and median of total_duration between \n",
    "data.groupby('VisitorType')['Total_Duration'].aggregate(['mean','median'])"
   ]
  },
  {
   "cell_type": "code",
   "execution_count": null,
   "metadata": {},
   "outputs": [],
   "source": []
  },
  {
   "cell_type": "markdown",
   "metadata": {},
   "source": [
    "## Matplotlib examples"
   ]
  },
  {
   "cell_type": "code",
   "execution_count": null,
   "metadata": {},
   "outputs": [],
   "source": [
    "# plot a histogram of the Region of shoppers\n",
    "Reg = data['Region']\n",
    "plt.hist(Reg);"
   ]
  },
  {
   "cell_type": "code",
   "execution_count": null,
   "metadata": {},
   "outputs": [],
   "source": [
    "#scatter plot of the shopper numbers in different operatingsystem-browser combination\n",
    "colors =range(42)\n",
    "#create a new dataframe \n",
    "new_df = data.groupby(['OperatingSystems','Browser'])['Index'].size().reset_index(name ='shopper numbers')\n",
    "x = np.array(new_df['OperatingSystems'])\n",
    "y = np.array(new_df['Browser'])\n",
    "sizes = np.array(new_df['shopper numbers'])\n",
    "plt.rcParams['figure.figsize'] = (15.0, 10.0) #figure size\n",
    "plt.scatter(x, y, c=colors, s=sizes, alpha=0.9)\n",
    "plt.colorbar()  # show color scale\n",
    "\n",
    "plt.title('shopper numbers in different OperatingSystems and browsers',fontsize = 25)\n",
    "plt.xlabel('Operating system #',fontsize = 20)\n",
    "plt.ylabel('Browser #',fontsize = 20)\n",
    "plt.xticks(fontsize=20)\n",
    "plt.yticks(fontsize=15);"
   ]
  },
  {
   "cell_type": "code",
   "execution_count": null,
   "metadata": {},
   "outputs": [],
   "source": [
    "# Pie chart of the shopper numbers on weekend and weekdays\n",
    "labels = 'Weekend','Weekday'  # labels for pie chart\n",
    "sizes = [weekend,weekday]    # the size(number) for each label\n",
    "\n",
    "# optional parameters\n",
    "plt.rcParams['figure.figsize'] = (20.0, 9.0) #figure size\n",
    "colors = ['gold', 'yellowgreen']\n",
    "explode = (0,0.1)\n",
    "\n",
    "#plot without optinal parameters\n",
    "plt.subplot(1, 2, 1)\n",
    "plt.pie(sizes, labels=labels) \n",
    "\n",
    "#plot with optional parameters to make the plot more better for view\n",
    "plt.subplot(1, 2, 2)\n",
    "patches, texts, autotexts = plt.pie(sizes, explode=explode, labels=labels, colors=colors,\n",
    "        autopct='%1.1f%%', shadow=True, startangle=30) "
   ]
  },
  {
   "cell_type": "code",
   "execution_count": null,
   "metadata": {},
   "outputs": [],
   "source": [
    "# Show the barplot of the shoppers number by month value\n",
    "month = data.groupby('Month')['Index'].size().reset_index(name = 'Shoppers number')\n",
    "month['Month_No'] = [8,12,2,7,6,3,5,11,10,9]\n",
    "month_ordered = month.sort_values(by='Month_No')\n",
    "\n",
    "#plot the distribution\n",
    "month_label = ('Feb','Mar','May','June','Jul','Aug','Sep','Oct','Nov','Dec')\n",
    "fig,ax = plt.subplots(figsize=(20,10))\n",
    "plt.bar(month_label,month_ordered['Shoppers number'])\n",
    "plt.ylabel('Shoppers number',fontsize = 20)\n",
    "plt.title('Number of shoppers in month distribution',fontsize = 20)\n",
    "plt.xticks(fontsize=20)\n",
    "plt.yticks(fontsize=15)"
   ]
  },
  {
   "cell_type": "code",
   "execution_count": null,
   "metadata": {},
   "outputs": [],
   "source": [
    "#add a monthly mean value line\n",
    "#plot the distribution\n",
    "month_label = ('Feb','Mar','May','June','Jul','Aug','Sep','Oct','Nov','Dec')\n",
    "fig,ax = plt.subplots(figsize=(20,10))\n",
    "plt.bar(month_label,month_ordered['Shoppers number'])\n",
    "plt.ylabel('Shoppers number',fontsize = 20)\n",
    "plt.title('Number of shoppers in month distribution',fontsize = 20)\n",
    "plt.xticks(fontsize=20)\n",
    "plt.yticks(fontsize=15)\n",
    "#plot the mean value line\n",
    "mean = month_ordered['Shoppers number'].mean()\n",
    "ax.axhline(mean,color = 'red')"
   ]
  },
  {
   "cell_type": "code",
   "execution_count": null,
   "metadata": {},
   "outputs": [],
   "source": [
    "#add a legend to the monthly number and the average monthly number\n",
    "#plot the distribution\n",
    "month_label = ('Feb','Mar','May','June','Jul','Aug','Sep','Oct','Nov','Dec')\n",
    "fig,ax = plt.subplots(figsize=(20,10))\n",
    "plt.bar(month_label,month_ordered['Shoppers number'])\n",
    "plt.ylabel('Shoppers number',fontsize = 20)\n",
    "plt.title('Number of shoppers in month distribution',fontsize = 20)\n",
    "plt.xticks(fontsize=20)\n",
    "plt.yticks(fontsize=15)\n",
    "\n",
    "#plot the mean value line\n",
    "mean = month_ordered['Shoppers number'].mean()\n",
    "ax.axhline(mean,color = 'red')\n",
    "\n",
    "#plot lengend\n",
    "import matplotlib.patches as mpatches\n",
    "import matplotlib.lines as mlines\n",
    "monthly_num = mpatches.Patch(color='blue', label='The monthly numbers')\n",
    "monthly_avg = mlines.Line2D([],[], color='red', label='monthly average')\n",
    "plt.legend(handles=[monthly_avg,monthly_num],loc=2)"
   ]
  }
 ],
 "metadata": {
  "kernelspec": {
   "display_name": "Python 3",
   "language": "python",
   "name": "python3"
  },
  "language_info": {
   "codemirror_mode": {
    "name": "ipython",
    "version": 3
   },
   "file_extension": ".py",
   "mimetype": "text/x-python",
   "name": "python",
   "nbconvert_exporter": "python",
   "pygments_lexer": "ipython3",
   "version": "3.7.1"
  }
 },
 "nbformat": 4,
 "nbformat_minor": 2
}
