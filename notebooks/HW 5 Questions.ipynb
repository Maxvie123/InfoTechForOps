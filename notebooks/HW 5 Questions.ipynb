{
 "cells": [
  {
   "cell_type": "markdown",
   "metadata": {},
   "source": [
    "# HW 5 Questions -- Code Samples\n"
   ]
  },
  {
   "cell_type": "markdown",
   "metadata": {},
   "source": [
    "## Q1\n",
    "I am still foggy on the relationship between Jupyter Notebooks and Python.  Can Jupyter Notebook be used only with Python?  Does Python sit on top of Jupyter Notebook?  And, the other stuff (pandas, numpy, etc.) are basically add ins?"
   ]
  },
  {
   "cell_type": "code",
   "execution_count": null,
   "metadata": {},
   "outputs": [],
   "source": [
    "# compare with hw5_q1.py\n",
    "%matplotlib inline\n",
    "import numpy as np\n",
    "import matplotlib.pyplot as plt\n",
    "\n",
    "# Use a NumPy function to generate 10,000 random variates ~ N(123.5, 27.5)\n",
    "rvgs = np.random.normal(123.5, 27.50, 10000)"
   ]
  },
  {
   "cell_type": "code",
   "execution_count": null,
   "metadata": {},
   "outputs": [],
   "source": [
    "# Use the NumPy functions mean and std to compute the corresponding values\n",
    "print(\"Mean: {:.2f}, Std. Dev: {:.2f}\".format(np.mean(rvgs), np.std(rvgs)))"
   ]
  },
  {
   "cell_type": "code",
   "execution_count": null,
   "metadata": {},
   "outputs": [],
   "source": [
    "# Use the Matplotlib function to draw a histogram.\n",
    "fig = plt.hist(rvgs)"
   ]
  },
  {
   "cell_type": "markdown",
   "metadata": {},
   "source": [
    "## Q3\n",
    "One of the areas I have become confused about is the characteristics of and differences between numpy arrays and pandas dataframes. More specifically, how do you use the filter capabilities of a pandas dataframe? The book gives one example of filtering in notebook 03.08 under the \"Aggregate, filter, transform, apply\" section. However, I was unable to filter my data successfully, and I think this would be a really useful feature to understand!"
   ]
  },
  {
   "cell_type": "code",
   "execution_count": null,
   "metadata": {},
   "outputs": [],
   "source": [
    "import numpy as np\n",
    "import pandas as pd\n",
    "\n",
    "# Create two simple structure -- a NumPy array and a Pandas DataFrame\n",
    "rvgs_np = rvgs = np.random.normal(57.5, 10.27, 10000)\n",
    "rvgs_pd = pd.DataFrame({'rvgs':rvgs_np})"
   ]
  },
  {
   "cell_type": "code",
   "execution_count": null,
   "metadata": {},
   "outputs": [],
   "source": [
    "type(rvgs_np), type(rvgs_pd)"
   ]
  },
  {
   "cell_type": "code",
   "execution_count": null,
   "metadata": {},
   "outputs": [],
   "source": [
    "rvgs_np"
   ]
  },
  {
   "cell_type": "code",
   "execution_count": null,
   "metadata": {},
   "outputs": [],
   "source": [
    "rvgs_pd.head()"
   ]
  },
  {
   "cell_type": "code",
   "execution_count": null,
   "metadata": {},
   "outputs": [],
   "source": [
    "# Filter the array to give all values less that 50\n",
    "rvgs_np[rvgs_np < 50]"
   ]
  },
  {
   "cell_type": "code",
   "execution_count": null,
   "metadata": {},
   "outputs": [],
   "source": [
    "# what exacly is this 'filter' -- a boolean mask\n",
    "rvgs_np < 50"
   ]
  },
  {
   "cell_type": "code",
   "execution_count": null,
   "metadata": {},
   "outputs": [],
   "source": [
    "# Use the same method to filter the DataFrame\n",
    "rvgs_pd[rvgs_pd['rvgs'] < 50]"
   ]
  },
  {
   "cell_type": "code",
   "execution_count": null,
   "metadata": {},
   "outputs": [],
   "source": [
    "# The values in the Pandas Series comprise a NumPy array\n",
    "type(rvgs_pd['rvgs'].values)"
   ]
  },
  {
   "cell_type": "markdown",
   "metadata": {},
   "source": [
    "## Q4\n",
    "Regarding Boolean expressions, I didn't get the concept that some expressions return a True/False and some returns the value.  For example:"
   ]
  },
  {
   "cell_type": "code",
   "execution_count": null,
   "metadata": {},
   "outputs": [],
   "source": [
    "x = 5\n",
    "y = 6\n",
    "z = 'abc'\n",
    "a = None\n",
    "bool(x), bool(y), bool(z), bool(a)"
   ]
  },
  {
   "cell_type": "code",
   "execution_count": null,
   "metadata": {},
   "outputs": [],
   "source": [
    "x > 4 or z"
   ]
  },
  {
   "cell_type": "code",
   "execution_count": null,
   "metadata": {},
   "outputs": [],
   "source": [
    "x < 4 or z"
   ]
  },
  {
   "cell_type": "code",
   "execution_count": null,
   "metadata": {},
   "outputs": [],
   "source": [
    "bool(x > 4), bool(x < 4)"
   ]
  },
  {
   "cell_type": "code",
   "execution_count": null,
   "metadata": {},
   "outputs": [],
   "source": [
    "bool(x > 4 or z), bool(x < 4 or z)"
   ]
  },
  {
   "cell_type": "markdown",
   "metadata": {},
   "source": [
    "## Q7\n",
    "\n",
    "About slicing -- see \"Data Structure Slicing.ipynb\" + data_selection.R"
   ]
  },
  {
   "cell_type": "code",
   "execution_count": null,
   "metadata": {},
   "outputs": [],
   "source": []
  }
 ],
 "metadata": {
  "kernelspec": {
   "display_name": "Python 3",
   "language": "python",
   "name": "python3"
  },
  "language_info": {
   "codemirror_mode": {
    "name": "ipython",
    "version": 3
   },
   "file_extension": ".py",
   "mimetype": "text/x-python",
   "name": "python",
   "nbconvert_exporter": "python",
   "pygments_lexer": "ipython3",
   "version": "3.6.4"
  }
 },
 "nbformat": 4,
 "nbformat_minor": 2
}
