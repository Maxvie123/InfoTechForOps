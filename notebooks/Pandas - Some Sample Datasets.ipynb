{
 "cells": [
  {
   "cell_type": "markdown",
   "metadata": {},
   "source": [
    "# Pandas - Some Sample Datasets\n",
    "Most of these came from: https://opendata.socrata.com/browse\n",
    "\n",
    "Some sample code to read csv files into Pandas DataFrames and \"explore.\"\n"
   ]
  },
  {
   "cell_type": "markdown",
   "metadata": {},
   "source": [
    "## Some preliminary stuff to setup"
   ]
  },
  {
   "cell_type": "code",
   "execution_count": null,
   "metadata": {},
   "outputs": [],
   "source": [
    "# getting things ready\n",
    "%matplotlib inline\n",
    "import numpy as np\n",
    "import pandas as pd\n",
    "import matplotlib.pyplot as plt\n",
    "\n",
    "# show - displays the Pandas object \n",
    "def show(data, show_data = 0):\n",
    "    print (\" Index: {:}\".format(data.index))\n",
    "    print (\" Shape: {:}\".format(data.shape))\n",
    "    if show_data:\n",
    "        print(data.values)\n",
    "\n",
    "# simple descriptive statistics for the NumPy array object\n",
    "def simple_ds(data):\n",
    "    print (\"Number of values: {:,d}\".format(len(data)))\n",
    "    print (\"           Mean : {:,.3f}\".format(data.mean()))\n",
    "    print (\"         Median : {:,.3f}\".format(np.median(data)))\n",
    "    print (\"        Std Dev : {:,.3f}\".format(data.std()))\n",
    "    print (\"          Range : ({:,.3f}, {:,.3f})\".format(data.min(), data.max()))"
   ]
  },
  {
   "cell_type": "code",
   "execution_count": null,
   "metadata": {},
   "outputs": [],
   "source": [
    "# Some sample datasets - all from the source above.\n",
    "# Dictionary - key:actual file name\n",
    "fnames = {\n",
    "     \"cities\"    :\"01_U.S._Top_25_Largest_Cities.csv\"\n",
    "    ,\"airports\"  :\"02_Airport_Codes_mapped_to_Latitude_Longitude_in_the_United_States.csv\"\n",
    "    ,\"starbucks\" :\"03_All_Starbucks_Locations_in_the_US_-_Map.csv\"\n",
    "    ,\"scpay\"     :\"04_South_Carolina_State_Employee_Salary_Database.csv\"\n",
    "    ,\"songs\"     :\"05_Top_1_000_Songs_To_Hear_Before_You_Die.csv\"\n",
    "    ,\"bestcos\"   :\"06_Top_5_000_Companies_from_INC.com.csv\"\n",
    "    ,\"accounts\"  :\"07_Unclaimed_bank_accounts.csv\"\n",
    "    ,\"wh2012\"    :\"08_2012_Annual_Report_to_Congress_on_White_House_Staff.csv\"\n",
    "    ,\"washconst\" :\"09_Completed_Construction_Projects_2005_in_Washington_DC.csv\"\n",
    "    ,\"usecon\"    :\"10_us_economic_data.csv\"\n",
    "    ,\"matches\"   :\"11_matches.csv\"\n",
    "}"
   ]
  },
  {
   "cell_type": "markdown",
   "metadata": {},
   "source": [
    "## Sample Analysis"
   ]
  },
  {
   "cell_type": "code",
   "execution_count": null,
   "metadata": {},
   "outputs": [],
   "source": [
    "# Grab a data set using the key and show the first few rows\n",
    "fkey = \"usecon\"\n",
    "df = pd.read_csv(\"../data/\"+fnames[fkey])\n",
    "show(df)\n",
    "df.head()"
   ]
  },
  {
   "cell_type": "code",
   "execution_count": null,
   "metadata": {},
   "outputs": [],
   "source": [
    "# Extract a numerical column as a NumPy array\n",
    "some_nums = df['JobsAdded'].values\n",
    "type(some_nums)"
   ]
  },
  {
   "cell_type": "code",
   "execution_count": null,
   "metadata": {},
   "outputs": [],
   "source": [
    "# Have a look at the data\n",
    "simple_ds(some_nums)\n",
    "plt.figure(figsize=(10, 8))\n",
    "plt.hist(some_nums)\n",
    "plt.show()"
   ]
  },
  {
   "cell_type": "code",
   "execution_count": null,
   "metadata": {},
   "outputs": [],
   "source": [
    "# sort the DataFrame\n",
    "df.sort_values(by=\"JobsAdded\", ascending=False)"
   ]
  },
  {
   "cell_type": "code",
   "execution_count": null,
   "metadata": {},
   "outputs": [],
   "source": [
    "df.plot(y=\"JobsAdded\")"
   ]
  },
  {
   "cell_type": "code",
   "execution_count": null,
   "metadata": {
    "scrolled": true
   },
   "outputs": [],
   "source": [
    "df['GDP'].dropna().plot()"
   ]
  },
  {
   "cell_type": "code",
   "execution_count": null,
   "metadata": {},
   "outputs": [],
   "source": [
    "df.plot(y=\"UnemploymentRate\")"
   ]
  },
  {
   "cell_type": "code",
   "execution_count": null,
   "metadata": {},
   "outputs": [],
   "source": []
  }
 ],
 "metadata": {
  "kernelspec": {
   "display_name": "Python 3",
   "language": "python",
   "name": "python3"
  },
  "language_info": {
   "codemirror_mode": {
    "name": "ipython",
    "version": 3
   },
   "file_extension": ".py",
   "mimetype": "text/x-python",
   "name": "python",
   "nbconvert_exporter": "python",
   "pygments_lexer": "ipython3",
   "version": "3.6.4"
  }
 },
 "nbformat": 4,
 "nbformat_minor": 2
}
