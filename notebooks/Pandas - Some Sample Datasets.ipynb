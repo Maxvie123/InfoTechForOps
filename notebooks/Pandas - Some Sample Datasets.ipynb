{
 "cells": [
  {
   "cell_type": "markdown",
   "metadata": {},
   "source": [
    "# Pandas - Some Sample Datasets\n",
    "Most of these came from: https://opendata.socrata.com/browse\n",
    "\n",
    "Some sample code to read csv files into Pandas DataFrames and \"explore.\"\n"
   ]
  },
  {
   "cell_type": "markdown",
   "metadata": {},
   "source": [
    "## Some preliminary stuff to setup"
   ]
  },
  {
   "cell_type": "code",
   "execution_count": 2,
   "metadata": {},
   "outputs": [],
   "source": [
    "# getting things ready\n",
    "%matplotlib inline\n",
    "import numpy as np\n",
    "import pandas as pd\n",
    "import matplotlib.pyplot as plt\n",
    "\n",
    "# show - displays the Pandas object \n",
    "def show(data, show_data = 0):\n",
    "    print (\"  Index: {:}\".format(data.index))\n",
    "    print (\"Columns: {:}\".format(data.columns))\n",
    "    print (\"  Shape: {:}\".format(data.shape))\n",
    "    if show_data:\n",
    "        print(data.values)\n",
    "\n",
    "# simple descriptive statistics for the NumPy array object\n",
    "def simple_ds(data):\n",
    "    print (\"Number of values: {:,d}\".format(len(data)))\n",
    "    print (\"           Mean : {:,.3f}\".format(data.mean()))\n",
    "    print (\"         Median : {:,.3f}\".format(np.median(data)))\n",
    "    print (\"        Std Dev : {:,.3f}\".format(data.std()))\n",
    "    print (\"          Range : ({:,.3f}, {:,.3f})\".format(data.min(), data.max()))"
   ]
  },
  {
   "cell_type": "code",
   "execution_count": 3,
   "metadata": {},
   "outputs": [],
   "source": [
    "# Some sample datasets - all from the source above.\n",
    "# Dictionary - key:actual file name\n",
    "fnames = {\n",
    "     \"cities\"    :\"01_U.S._Top_25_Largest_Cities.csv\"\n",
    "    ,\"airports\"  :\"02_Airport_Codes_mapped_to_Latitude_Longitude_in_the_United_States.csv\"\n",
    "    ,\"starbucks\" :\"03_All_Starbucks_Locations_in_the_US_-_Map.csv\"\n",
    "    ,\"scpay\"     :\"04_South_Carolina_State_Employee_Salary_Database.csv\"\n",
    "    ,\"songs\"     :\"05_Top_1_000_Songs_To_Hear_Before_You_Die.csv\"\n",
    "    ,\"bestcos\"   :\"06_Top_5_000_Companies_from_INC.com.csv\"\n",
    "    ,\"accounts\"  :\"07_Unclaimed_bank_accounts.csv\"\n",
    "    ,\"wh2012\"    :\"08_2012_Annual_Report_to_Congress_on_White_House_Staff.csv\"\n",
    "    ,\"washconst\" :\"09_Completed_Construction_Projects_2005_in_Washington_DC.csv\"\n",
    "    ,\"usecon\"    :\"10_us_economic_data.csv\"\n",
    "    ,\"matches\"   :\"11_matches.csv\"\n",
    "    ,\"meals\"     :\"12_meals.csv\"\n",
    "}"
   ]
  },
  {
   "cell_type": "markdown",
   "metadata": {},
   "source": [
    "## Sample Analysis"
   ]
  },
  {
   "cell_type": "code",
   "execution_count": 4,
   "metadata": {},
   "outputs": [
    {
     "name": "stdout",
     "output_type": "stream",
     "text": [
      "  Index: RangeIndex(start=0, stop=894, step=1)\n",
      "Columns: Index(['cost', 'day', 'meal', 'party_size', 'payer', 'tip'], dtype='object')\n",
      "  Shape: (894, 6)\n"
     ]
    },
    {
     "data": {
      "text/html": [
       "<div>\n",
       "<style scoped>\n",
       "    .dataframe tbody tr th:only-of-type {\n",
       "        vertical-align: middle;\n",
       "    }\n",
       "\n",
       "    .dataframe tbody tr th {\n",
       "        vertical-align: top;\n",
       "    }\n",
       "\n",
       "    .dataframe thead th {\n",
       "        text-align: right;\n",
       "    }\n",
       "</style>\n",
       "<table border=\"1\" class=\"dataframe\">\n",
       "  <thead>\n",
       "    <tr style=\"text-align: right;\">\n",
       "      <th></th>\n",
       "      <th>cost</th>\n",
       "      <th>day</th>\n",
       "      <th>meal</th>\n",
       "      <th>party_size</th>\n",
       "      <th>payer</th>\n",
       "      <th>tip</th>\n",
       "    </tr>\n",
       "  </thead>\n",
       "  <tbody>\n",
       "    <tr>\n",
       "      <th>0</th>\n",
       "      <td>4.96</td>\n",
       "      <td>Thu</td>\n",
       "      <td>breakfast</td>\n",
       "      <td>1</td>\n",
       "      <td>Male</td>\n",
       "      <td>0.53</td>\n",
       "    </tr>\n",
       "    <tr>\n",
       "      <th>1</th>\n",
       "      <td>26.37</td>\n",
       "      <td>Tue</td>\n",
       "      <td>lunch</td>\n",
       "      <td>2</td>\n",
       "      <td>Female</td>\n",
       "      <td>5.04</td>\n",
       "    </tr>\n",
       "    <tr>\n",
       "      <th>2</th>\n",
       "      <td>29.93</td>\n",
       "      <td>Thu</td>\n",
       "      <td>dinner</td>\n",
       "      <td>2</td>\n",
       "      <td>Female</td>\n",
       "      <td>7.13</td>\n",
       "    </tr>\n",
       "    <tr>\n",
       "      <th>3</th>\n",
       "      <td>14.93</td>\n",
       "      <td>Thu</td>\n",
       "      <td>dinner</td>\n",
       "      <td>1</td>\n",
       "      <td>Female</td>\n",
       "      <td>3.73</td>\n",
       "    </tr>\n",
       "    <tr>\n",
       "      <th>4</th>\n",
       "      <td>8.24</td>\n",
       "      <td>Wed</td>\n",
       "      <td>breakfast</td>\n",
       "      <td>2</td>\n",
       "      <td>Male</td>\n",
       "      <td>0.98</td>\n",
       "    </tr>\n",
       "  </tbody>\n",
       "</table>\n",
       "</div>"
      ],
      "text/plain": [
       "    cost  day       meal  party_size   payer   tip\n",
       "0   4.96  Thu  breakfast           1    Male  0.53\n",
       "1  26.37  Tue      lunch           2  Female  5.04\n",
       "2  29.93  Thu     dinner           2  Female  7.13\n",
       "3  14.93  Thu     dinner           1  Female  3.73\n",
       "4   8.24  Wed  breakfast           2    Male  0.98"
      ]
     },
     "execution_count": 4,
     "metadata": {},
     "output_type": "execute_result"
    }
   ],
   "source": [
    "# Grab a data set using the key and show the first few rows\n",
    "fkey = \"meals\"\n",
    "df = pd.read_csv(\"../data/\"+fnames[fkey])\n",
    "show(df)\n",
    "df.head()"
   ]
  },
  {
   "cell_type": "code",
   "execution_count": 5,
   "metadata": {},
   "outputs": [
    {
     "data": {
      "text/html": [
       "<div>\n",
       "<style scoped>\n",
       "    .dataframe tbody tr th:only-of-type {\n",
       "        vertical-align: middle;\n",
       "    }\n",
       "\n",
       "    .dataframe tbody tr th {\n",
       "        vertical-align: top;\n",
       "    }\n",
       "\n",
       "    .dataframe thead th {\n",
       "        text-align: right;\n",
       "    }\n",
       "</style>\n",
       "<table border=\"1\" class=\"dataframe\">\n",
       "  <thead>\n",
       "    <tr style=\"text-align: right;\">\n",
       "      <th></th>\n",
       "      <th>cost</th>\n",
       "      <th>party_size</th>\n",
       "      <th>tip</th>\n",
       "    </tr>\n",
       "  </thead>\n",
       "  <tbody>\n",
       "    <tr>\n",
       "      <th>count</th>\n",
       "      <td>894.000000</td>\n",
       "      <td>894.000000</td>\n",
       "      <td>894.000000</td>\n",
       "    </tr>\n",
       "    <tr>\n",
       "      <th>mean</th>\n",
       "      <td>26.905872</td>\n",
       "      <td>2.134228</td>\n",
       "      <td>4.058915</td>\n",
       "    </tr>\n",
       "    <tr>\n",
       "      <th>std</th>\n",
       "      <td>18.060383</td>\n",
       "      <td>0.952331</td>\n",
       "      <td>3.263251</td>\n",
       "    </tr>\n",
       "    <tr>\n",
       "      <th>min</th>\n",
       "      <td>3.380000</td>\n",
       "      <td>1.000000</td>\n",
       "      <td>-1.770000</td>\n",
       "    </tr>\n",
       "    <tr>\n",
       "      <th>25%</th>\n",
       "      <td>13.267500</td>\n",
       "      <td>1.000000</td>\n",
       "      <td>1.700000</td>\n",
       "    </tr>\n",
       "    <tr>\n",
       "      <th>50%</th>\n",
       "      <td>22.120000</td>\n",
       "      <td>2.000000</td>\n",
       "      <td>3.100000</td>\n",
       "    </tr>\n",
       "    <tr>\n",
       "      <th>75%</th>\n",
       "      <td>36.415000</td>\n",
       "      <td>3.000000</td>\n",
       "      <td>5.400000</td>\n",
       "    </tr>\n",
       "    <tr>\n",
       "      <th>max</th>\n",
       "      <td>94.750000</td>\n",
       "      <td>4.000000</td>\n",
       "      <td>19.790000</td>\n",
       "    </tr>\n",
       "  </tbody>\n",
       "</table>\n",
       "</div>"
      ],
      "text/plain": [
       "             cost  party_size         tip\n",
       "count  894.000000  894.000000  894.000000\n",
       "mean    26.905872    2.134228    4.058915\n",
       "std     18.060383    0.952331    3.263251\n",
       "min      3.380000    1.000000   -1.770000\n",
       "25%     13.267500    1.000000    1.700000\n",
       "50%     22.120000    2.000000    3.100000\n",
       "75%     36.415000    3.000000    5.400000\n",
       "max     94.750000    4.000000   19.790000"
      ]
     },
     "execution_count": 5,
     "metadata": {},
     "output_type": "execute_result"
    }
   ],
   "source": [
    "# Built-in describe method to get some descriptive statistics\n",
    "df.describe()"
   ]
  },
  {
   "cell_type": "code",
   "execution_count": 6,
   "metadata": {},
   "outputs": [
    {
     "data": {
      "text/plain": [
       "numpy.ndarray"
      ]
     },
     "execution_count": 6,
     "metadata": {},
     "output_type": "execute_result"
    }
   ],
   "source": [
    "# Extract a numerical column as a NumPy array\n",
    "some_nums = df['cost'].values\n",
    "type(some_nums)"
   ]
  },
  {
   "cell_type": "code",
   "execution_count": 7,
   "metadata": {},
   "outputs": [
    {
     "name": "stdout",
     "output_type": "stream",
     "text": [
      "Number of values: 894\n",
      "           Mean : 26.906\n",
      "         Median : 22.120\n",
      "        Std Dev : 18.050\n",
      "          Range : (3.380, 94.750)\n"
     ]
    },
    {
     "data": {
      "image/png": "[encoded data removed]",
      "text/plain": [
       "<matplotlib.figure.Figure at 0x186235aac50>"
      ]
     },
     "metadata": {},
     "output_type": "display_data"
    }
   ],
   "source": [
    "# Have a look at the data\n",
    "simple_ds(some_nums)\n",
    "plt.figure(figsize=(10, 8))\n",
    "plt.hist(some_nums)\n",
    "plt.show()"
   ]
  },
  {
   "cell_type": "code",
   "execution_count": null,
   "metadata": {},
   "outputs": [],
   "source": [
    "# sort the DataFrame\n",
    "df.sort_values(by=\"JobsAdded\", ascending=False)"
   ]
  },
  {
   "cell_type": "code",
   "execution_count": null,
   "metadata": {},
   "outputs": [],
   "source": [
    "df.plot(y=\"JobsAdded\")"
   ]
  },
  {
   "cell_type": "code",
   "execution_count": null,
   "metadata": {
    "scrolled": true
   },
   "outputs": [],
   "source": [
    "df['GDP'].dropna().plot()"
   ]
  },
  {
   "cell_type": "code",
   "execution_count": null,
   "metadata": {},
   "outputs": [],
   "source": [
    "df.plot(y=\"UnemploymentRate\")"
   ]
  },
  {
   "cell_type": "code",
   "execution_count": null,
   "metadata": {},
   "outputs": [],
   "source": []
  }
 ],
 "metadata": {
  "kernelspec": {
   "display_name": "Python 3",
   "language": "python",
   "name": "python3"
  },
  "language_info": {
   "codemirror_mode": {
    "name": "ipython",
    "version": 3
   },
   "file_extension": ".py",
   "mimetype": "text/x-python",
   "name": "python",
   "nbconvert_exporter": "python",
   "pygments_lexer": "ipython3",
   "version": "3.6.4"
  }
 },
 "nbformat": 4,
 "nbformat_minor": 2
}
