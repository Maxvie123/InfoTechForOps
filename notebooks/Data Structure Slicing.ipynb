{
 "cells": [
  {
   "cell_type": "code",
   "execution_count": 1,
   "metadata": {},
   "outputs": [],
   "source": [
    "import numpy as np\n",
    "import pandas as pd"
   ]
  },
  {
   "cell_type": "code",
   "execution_count": 5,
   "metadata": {},
   "outputs": [
    {
     "data": {
      "text/plain": [
       "[0, 1, 2, 3, 4, 5, 6, 7, 8, 9]"
      ]
     },
     "execution_count": 5,
     "metadata": {},
     "output_type": "execute_result"
    }
   ],
   "source": [
    "# Python list\n",
    "a = list(range(10))\n",
    "a"
   ]
  },
  {
   "cell_type": "code",
   "execution_count": 9,
   "metadata": {},
   "outputs": [
    {
     "data": {
      "text/plain": [
       "[3, 4, 5, 6]"
      ]
     },
     "execution_count": 9,
     "metadata": {},
     "output_type": "execute_result"
    }
   ],
   "source": [
    "# slice syntax: [i:j] - elements i, i+1, ..., j-1\n",
    "# missing values -- wildcard (everything)\n",
    "a[3:7]"
   ]
  },
  {
   "cell_type": "code",
   "execution_count": 6,
   "metadata": {},
   "outputs": [
    {
     "data": {
      "text/plain": [
       "[0, 1, 2, 3]"
      ]
     },
     "execution_count": 6,
     "metadata": {},
     "output_type": "execute_result"
    }
   ],
   "source": [
    "a[:4]"
   ]
  },
  {
   "cell_type": "code",
   "execution_count": 8,
   "metadata": {},
   "outputs": [
    {
     "data": {
      "text/plain": [
       "[8, 9]"
      ]
     },
     "execution_count": 8,
     "metadata": {},
     "output_type": "execute_result"
    }
   ],
   "source": [
    "a[8:]"
   ]
  },
  {
   "cell_type": "code",
   "execution_count": 11,
   "metadata": {},
   "outputs": [
    {
     "name": "stdout",
     "output_type": "stream",
     "text": [
      "[[ 0  1  2  3  4]\n",
      " [ 5  6  7  8  9]\n",
      " [10 11 12 13 14]\n",
      " [15 16 17 18 19]\n",
      " [20 21 22 23 24]]\n"
     ]
    }
   ],
   "source": [
    "# Numpy array\n",
    "y = np.array(range(25)).reshape(5, 5)\n",
    "print(y)"
   ]
  },
  {
   "cell_type": "code",
   "execution_count": 12,
   "metadata": {},
   "outputs": [
    {
     "name": "stdout",
     "output_type": "stream",
     "text": [
      "[[12 13 14]\n",
      " [17 18 19]\n",
      " [22 23 24]]\n"
     ]
    }
   ],
   "source": [
    "# the same slice expression as Python lists -- i:j along each axis\n",
    "x = y[2:, 2:]\n",
    "print(x)"
   ]
  },
  {
   "cell_type": "code",
   "execution_count": 13,
   "metadata": {},
   "outputs": [
    {
     "name": "stdout",
     "output_type": "stream",
     "text": [
      "[[0 1]\n",
      " [5 6]]\n"
     ]
    }
   ],
   "source": [
    "z = y[:2, :2]\n",
    "print(z)"
   ]
  },
  {
   "cell_type": "code",
   "execution_count": 14,
   "metadata": {},
   "outputs": [
    {
     "name": "stdout",
     "output_type": "stream",
     "text": [
      "[[ 1  2  3]\n",
      " [ 6  7  8]\n",
      " [11 12 13]\n",
      " [16 17 18]\n",
      " [21 22 23]]\n"
     ]
    }
   ],
   "source": [
    "print(y[:, 1:-1])"
   ]
  },
  {
   "cell_type": "code",
   "execution_count": 17,
   "metadata": {},
   "outputs": [
    {
     "data": {
      "text/html": [
       "<div>\n",
       "<style scoped>\n",
       "    .dataframe tbody tr th:only-of-type {\n",
       "        vertical-align: middle;\n",
       "    }\n",
       "\n",
       "    .dataframe tbody tr th {\n",
       "        vertical-align: top;\n",
       "    }\n",
       "\n",
       "    .dataframe thead th {\n",
       "        text-align: right;\n",
       "    }\n",
       "</style>\n",
       "<table border=\"1\" class=\"dataframe\">\n",
       "  <thead>\n",
       "    <tr style=\"text-align: right;\">\n",
       "      <th></th>\n",
       "      <th>Name</th>\n",
       "      <th>Status</th>\n",
       "      <th>Salary</th>\n",
       "      <th>Pay Basis</th>\n",
       "      <th>Position Title</th>\n",
       "    </tr>\n",
       "  </thead>\n",
       "  <tbody>\n",
       "    <tr>\n",
       "      <th>0</th>\n",
       "      <td>Aberger, Marie E.</td>\n",
       "      <td>Employee</td>\n",
       "      <td>42000.0</td>\n",
       "      <td>Per Annum</td>\n",
       "      <td>PRESS ASSISTANT</td>\n",
       "    </tr>\n",
       "    <tr>\n",
       "      <th>1</th>\n",
       "      <td>Abrevaya, Sandra</td>\n",
       "      <td>Employee</td>\n",
       "      <td>90000.0</td>\n",
       "      <td>Per Annum</td>\n",
       "      <td>ASSOCIATE COMMUNICATIONS DIRECTOR</td>\n",
       "    </tr>\n",
       "    <tr>\n",
       "      <th>2</th>\n",
       "      <td>Agnew, David P.</td>\n",
       "      <td>Employee</td>\n",
       "      <td>153500.0</td>\n",
       "      <td>Per Annum</td>\n",
       "      <td>DEPUTY ASSISTANT TO THE PRESIDENT AND DIRECTOR...</td>\n",
       "    </tr>\n",
       "    <tr>\n",
       "      <th>3</th>\n",
       "      <td>Ahmed, Rumana A.</td>\n",
       "      <td>Employee</td>\n",
       "      <td>42565.0</td>\n",
       "      <td>Per Annum</td>\n",
       "      <td>EXECUTIVE ASSISTANT TO THE DIRECTOR OF PUBLIC ...</td>\n",
       "    </tr>\n",
       "    <tr>\n",
       "      <th>4</th>\n",
       "      <td>Albino, James</td>\n",
       "      <td>Employee</td>\n",
       "      <td>93000.0</td>\n",
       "      <td>Per Annum</td>\n",
       "      <td>SENIOR PROGRAM MANAGER</td>\n",
       "    </tr>\n",
       "    <tr>\n",
       "      <th>5</th>\n",
       "      <td>Alcantara, Elias</td>\n",
       "      <td>Employee</td>\n",
       "      <td>42000.0</td>\n",
       "      <td>Per Annum</td>\n",
       "      <td>STAFF ASSISTANT</td>\n",
       "    </tr>\n",
       "    <tr>\n",
       "      <th>6</th>\n",
       "      <td>Anderson, Amanda D.</td>\n",
       "      <td>Employee</td>\n",
       "      <td>102000.0</td>\n",
       "      <td>Per Annum</td>\n",
       "      <td>SPECIAL ASSISTANT TO THE PRESIDENT FOR LEGISLA...</td>\n",
       "    </tr>\n",
       "    <tr>\n",
       "      <th>7</th>\n",
       "      <td>Anello, Russell M.</td>\n",
       "      <td>Detailee</td>\n",
       "      <td>92001.0</td>\n",
       "      <td>Per Annum</td>\n",
       "      <td>ASSISTANT COUNSEL</td>\n",
       "    </tr>\n",
       "    <tr>\n",
       "      <th>8</th>\n",
       "      <td>Arguelles, Adam J.</td>\n",
       "      <td>Employee</td>\n",
       "      <td>102000.0</td>\n",
       "      <td>Per Annum</td>\n",
       "      <td>SPECIAL ASSISTANT TO THE PRESIDENT FOR LEGISLA...</td>\n",
       "    </tr>\n",
       "    <tr>\n",
       "      <th>9</th>\n",
       "      <td>Aron-Dine, Aviva R.</td>\n",
       "      <td>Employee</td>\n",
       "      <td>130500.0</td>\n",
       "      <td>Per Annum</td>\n",
       "      <td>SPECIAL ASSISTANT TO THE PRESIDENT FOR ECONOMI...</td>\n",
       "    </tr>\n",
       "  </tbody>\n",
       "</table>\n",
       "</div>"
      ],
      "text/plain": [
       "                  Name    Status    Salary  Pay Basis  \\\n",
       "0    Aberger, Marie E.  Employee   42000.0  Per Annum   \n",
       "1     Abrevaya, Sandra  Employee   90000.0  Per Annum   \n",
       "2      Agnew, David P.  Employee  153500.0  Per Annum   \n",
       "3     Ahmed, Rumana A.  Employee   42565.0  Per Annum   \n",
       "4        Albino, James  Employee   93000.0  Per Annum   \n",
       "5     Alcantara, Elias  Employee   42000.0  Per Annum   \n",
       "6  Anderson, Amanda D.  Employee  102000.0  Per Annum   \n",
       "7   Anello, Russell M.  Detailee   92001.0  Per Annum   \n",
       "8   Arguelles, Adam J.  Employee  102000.0  Per Annum   \n",
       "9  Aron-Dine, Aviva R.  Employee  130500.0  Per Annum   \n",
       "\n",
       "                                      Position Title  \n",
       "0                                    PRESS ASSISTANT  \n",
       "1                  ASSOCIATE COMMUNICATIONS DIRECTOR  \n",
       "2  DEPUTY ASSISTANT TO THE PRESIDENT AND DIRECTOR...  \n",
       "3  EXECUTIVE ASSISTANT TO THE DIRECTOR OF PUBLIC ...  \n",
       "4                             SENIOR PROGRAM MANAGER  \n",
       "5                                    STAFF ASSISTANT  \n",
       "6  SPECIAL ASSISTANT TO THE PRESIDENT FOR LEGISLA...  \n",
       "7                                  ASSISTANT COUNSEL  \n",
       "8  SPECIAL ASSISTANT TO THE PRESIDENT FOR LEGISLA...  \n",
       "9  SPECIAL ASSISTANT TO THE PRESIDENT FOR ECONOMI...  "
      ]
     },
     "execution_count": 17,
     "metadata": {},
     "output_type": "execute_result"
    }
   ],
   "source": [
    "# Pandas\n",
    "df = pd.read_csv(\"../data/08_2012_Annual_Report_to_Congress_on_White_House_Staff.csv\")\n",
    "df.head(10)"
   ]
  },
  {
   "cell_type": "code",
   "execution_count": 18,
   "metadata": {},
   "outputs": [
    {
     "data": {
      "text/html": [
       "<div>\n",
       "<style scoped>\n",
       "    .dataframe tbody tr th:only-of-type {\n",
       "        vertical-align: middle;\n",
       "    }\n",
       "\n",
       "    .dataframe tbody tr th {\n",
       "        vertical-align: top;\n",
       "    }\n",
       "\n",
       "    .dataframe thead th {\n",
       "        text-align: right;\n",
       "    }\n",
       "</style>\n",
       "<table border=\"1\" class=\"dataframe\">\n",
       "  <thead>\n",
       "    <tr style=\"text-align: right;\">\n",
       "      <th></th>\n",
       "      <th>Name</th>\n",
       "      <th>Status</th>\n",
       "      <th>Salary</th>\n",
       "      <th>Pay Basis</th>\n",
       "      <th>Position Title</th>\n",
       "    </tr>\n",
       "  </thead>\n",
       "  <tbody>\n",
       "    <tr>\n",
       "      <th>3</th>\n",
       "      <td>Ahmed, Rumana A.</td>\n",
       "      <td>Employee</td>\n",
       "      <td>42565.0</td>\n",
       "      <td>Per Annum</td>\n",
       "      <td>EXECUTIVE ASSISTANT TO THE DIRECTOR OF PUBLIC ...</td>\n",
       "    </tr>\n",
       "    <tr>\n",
       "      <th>4</th>\n",
       "      <td>Albino, James</td>\n",
       "      <td>Employee</td>\n",
       "      <td>93000.0</td>\n",
       "      <td>Per Annum</td>\n",
       "      <td>SENIOR PROGRAM MANAGER</td>\n",
       "    </tr>\n",
       "    <tr>\n",
       "      <th>5</th>\n",
       "      <td>Alcantara, Elias</td>\n",
       "      <td>Employee</td>\n",
       "      <td>42000.0</td>\n",
       "      <td>Per Annum</td>\n",
       "      <td>STAFF ASSISTANT</td>\n",
       "    </tr>\n",
       "    <tr>\n",
       "      <th>6</th>\n",
       "      <td>Anderson, Amanda D.</td>\n",
       "      <td>Employee</td>\n",
       "      <td>102000.0</td>\n",
       "      <td>Per Annum</td>\n",
       "      <td>SPECIAL ASSISTANT TO THE PRESIDENT FOR LEGISLA...</td>\n",
       "    </tr>\n",
       "  </tbody>\n",
       "</table>\n",
       "</div>"
      ],
      "text/plain": [
       "                  Name    Status    Salary  Pay Basis  \\\n",
       "3     Ahmed, Rumana A.  Employee   42565.0  Per Annum   \n",
       "4        Albino, James  Employee   93000.0  Per Annum   \n",
       "5     Alcantara, Elias  Employee   42000.0  Per Annum   \n",
       "6  Anderson, Amanda D.  Employee  102000.0  Per Annum   \n",
       "\n",
       "                                      Position Title  \n",
       "3  EXECUTIVE ASSISTANT TO THE DIRECTOR OF PUBLIC ...  \n",
       "4                             SENIOR PROGRAM MANAGER  \n",
       "5                                    STAFF ASSISTANT  \n",
       "6  SPECIAL ASSISTANT TO THE PRESIDENT FOR LEGISLA...  "
      ]
     },
     "execution_count": 18,
     "metadata": {},
     "output_type": "execute_result"
    }
   ],
   "source": [
    "# the iloc[i:j] method is similar to list and NumPy array slicing\n",
    "df.iloc[3:7]"
   ]
  },
  {
   "cell_type": "code",
   "execution_count": 20,
   "metadata": {},
   "outputs": [
    {
     "data": {
      "text/html": [
       "<div>\n",
       "<style scoped>\n",
       "    .dataframe tbody tr th:only-of-type {\n",
       "        vertical-align: middle;\n",
       "    }\n",
       "\n",
       "    .dataframe tbody tr th {\n",
       "        vertical-align: top;\n",
       "    }\n",
       "\n",
       "    .dataframe thead th {\n",
       "        text-align: right;\n",
       "    }\n",
       "</style>\n",
       "<table border=\"1\" class=\"dataframe\">\n",
       "  <thead>\n",
       "    <tr style=\"text-align: right;\">\n",
       "      <th></th>\n",
       "      <th>Status</th>\n",
       "      <th>Salary</th>\n",
       "    </tr>\n",
       "  </thead>\n",
       "  <tbody>\n",
       "    <tr>\n",
       "      <th>3</th>\n",
       "      <td>Employee</td>\n",
       "      <td>42565.0</td>\n",
       "    </tr>\n",
       "    <tr>\n",
       "      <th>4</th>\n",
       "      <td>Employee</td>\n",
       "      <td>93000.0</td>\n",
       "    </tr>\n",
       "    <tr>\n",
       "      <th>5</th>\n",
       "      <td>Employee</td>\n",
       "      <td>42000.0</td>\n",
       "    </tr>\n",
       "    <tr>\n",
       "      <th>6</th>\n",
       "      <td>Employee</td>\n",
       "      <td>102000.0</td>\n",
       "    </tr>\n",
       "  </tbody>\n",
       "</table>\n",
       "</div>"
      ],
      "text/plain": [
       "     Status    Salary\n",
       "3  Employee   42565.0\n",
       "4  Employee   93000.0\n",
       "5  Employee   42000.0\n",
       "6  Employee  102000.0"
      ]
     },
     "execution_count": 20,
     "metadata": {},
     "output_type": "execute_result"
    }
   ],
   "source": [
    "df.iloc[3:7, 1:3]"
   ]
  },
  {
   "cell_type": "code",
   "execution_count": 21,
   "metadata": {},
   "outputs": [
    {
     "data": {
      "text/html": [
       "<div>\n",
       "<style scoped>\n",
       "    .dataframe tbody tr th:only-of-type {\n",
       "        vertical-align: middle;\n",
       "    }\n",
       "\n",
       "    .dataframe tbody tr th {\n",
       "        vertical-align: top;\n",
       "    }\n",
       "\n",
       "    .dataframe thead th {\n",
       "        text-align: right;\n",
       "    }\n",
       "</style>\n",
       "<table border=\"1\" class=\"dataframe\">\n",
       "  <thead>\n",
       "    <tr style=\"text-align: right;\">\n",
       "      <th></th>\n",
       "      <th>Name</th>\n",
       "      <th>Status</th>\n",
       "      <th>Salary</th>\n",
       "      <th>Pay Basis</th>\n",
       "      <th>Position Title</th>\n",
       "    </tr>\n",
       "  </thead>\n",
       "  <tbody>\n",
       "    <tr>\n",
       "      <th>3</th>\n",
       "      <td>Ahmed, Rumana A.</td>\n",
       "      <td>Employee</td>\n",
       "      <td>42565.0</td>\n",
       "      <td>Per Annum</td>\n",
       "      <td>EXECUTIVE ASSISTANT TO THE DIRECTOR OF PUBLIC ...</td>\n",
       "    </tr>\n",
       "    <tr>\n",
       "      <th>4</th>\n",
       "      <td>Albino, James</td>\n",
       "      <td>Employee</td>\n",
       "      <td>93000.0</td>\n",
       "      <td>Per Annum</td>\n",
       "      <td>SENIOR PROGRAM MANAGER</td>\n",
       "    </tr>\n",
       "    <tr>\n",
       "      <th>5</th>\n",
       "      <td>Alcantara, Elias</td>\n",
       "      <td>Employee</td>\n",
       "      <td>42000.0</td>\n",
       "      <td>Per Annum</td>\n",
       "      <td>STAFF ASSISTANT</td>\n",
       "    </tr>\n",
       "    <tr>\n",
       "      <th>6</th>\n",
       "      <td>Anderson, Amanda D.</td>\n",
       "      <td>Employee</td>\n",
       "      <td>102000.0</td>\n",
       "      <td>Per Annum</td>\n",
       "      <td>SPECIAL ASSISTANT TO THE PRESIDENT FOR LEGISLA...</td>\n",
       "    </tr>\n",
       "    <tr>\n",
       "      <th>7</th>\n",
       "      <td>Anello, Russell M.</td>\n",
       "      <td>Detailee</td>\n",
       "      <td>92001.0</td>\n",
       "      <td>Per Annum</td>\n",
       "      <td>ASSISTANT COUNSEL</td>\n",
       "    </tr>\n",
       "  </tbody>\n",
       "</table>\n",
       "</div>"
      ],
      "text/plain": [
       "                  Name    Status    Salary  Pay Basis  \\\n",
       "3     Ahmed, Rumana A.  Employee   42565.0  Per Annum   \n",
       "4        Albino, James  Employee   93000.0  Per Annum   \n",
       "5     Alcantara, Elias  Employee   42000.0  Per Annum   \n",
       "6  Anderson, Amanda D.  Employee  102000.0  Per Annum   \n",
       "7   Anello, Russell M.  Detailee   92001.0  Per Annum   \n",
       "\n",
       "                                      Position Title  \n",
       "3  EXECUTIVE ASSISTANT TO THE DIRECTOR OF PUBLIC ...  \n",
       "4                             SENIOR PROGRAM MANAGER  \n",
       "5                                    STAFF ASSISTANT  \n",
       "6  SPECIAL ASSISTANT TO THE PRESIDENT FOR LEGISLA...  \n",
       "7                                  ASSISTANT COUNSEL  "
      ]
     },
     "execution_count": 21,
     "metadata": {},
     "output_type": "execute_result"
    }
   ],
   "source": [
    "# Note that loc[] uses the row names.  If the names are integers, slicing\n",
    "# looks similar, but df.loc[i:j] includes rows i, i+1, ... AND j.\n",
    "df.loc[3:7]"
   ]
  },
  {
   "cell_type": "code",
   "execution_count": null,
   "metadata": {},
   "outputs": [],
   "source": []
  }
 ],
 "metadata": {
  "kernelspec": {
   "display_name": "Python 3",
   "language": "python",
   "name": "python3"
  },
  "language_info": {
   "codemirror_mode": {
    "name": "ipython",
    "version": 3
   },
   "file_extension": ".py",
   "mimetype": "text/x-python",
   "name": "python",
   "nbconvert_exporter": "python",
   "pygments_lexer": "ipython3",
   "version": "3.6.4"
  }
 },
 "nbformat": 4,
 "nbformat_minor": 2
}
