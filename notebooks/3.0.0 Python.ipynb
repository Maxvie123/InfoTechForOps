{
 "cells": [
  {
   "cell_type": "markdown",
   "metadata": {},
   "source": [
    "# Python Basics\n",
    "\n",
    "This chapter focuses on the Python componemnt of the class.  We will focus exclusively on using Python for interactive data science work rather than on \"programming\" per se."
   ]
  },
  {
   "cell_type": "markdown",
   "metadata": {},
   "source": [
    "## Python Book\n",
    "VanderPlas, J. <i>Python Data Science Handbook: Essential Tools for Working with Data</i>, O'Reilly Media, 2016.  Available on \n",
    "Amazon and at https://jakevdp.github.io/PythonDataScienceHandbook/.\n",
    "\n",
    "Note that this is not a book that teaches Python.  Instead, it's focused on using Python for Data Science. "
   ]
  },
  {
   "cell_type": "markdown",
   "metadata": {},
   "source": [
    "## Key Python Modules\n",
    "We will use several common Python <i>modules</i>.  A modules is similar to a library in other lanugages.  The modules that we will use include:\n",
    "<ul>\n",
    "<li />NumPy\n",
    "<li />Pandas\n",
    "<li />SciPy\n",
    "<li />Matplotlib and Seaborn\n",
    "<li />Python MySQL Connector\n",
    "</ul>\n",
    "In addition, we will also learn how to create and use our own modules.\n"
   ]
  },
  {
   "cell_type": "markdown",
   "metadata": {},
   "source": [
    "## Introduction to Python"
   ]
  },
  {
   "cell_type": "code",
   "execution_count": null,
   "metadata": {},
   "outputs": [],
   "source": [
    "print (\"Hello World!\")"
   ]
  },
  {
   "cell_type": "code",
   "execution_count": null,
   "metadata": {},
   "outputs": [],
   "source": [
    "# Unlike many languages that use {} and other start/end identifers\n",
    "#   to identify blocks, Python uses intention.  \n",
    "for i in range(5):\n",
    "    j = i + 1\n",
    "    print (\"[{:}] Hello World!\".format(j))"
   ]
  },
  {
   "cell_type": "code",
   "execution_count": null,
   "metadata": {},
   "outputs": [],
   "source": [
    "for i in range(20):\n",
    "    if i % 2:\n",
    "        print(i)"
   ]
  },
  {
   "cell_type": "code",
   "execution_count": null,
   "metadata": {},
   "outputs": [],
   "source": [
    "# simple implementation of the pseudo code from Slide 5 of the Intro to \n",
    "#   Python slide set.\n",
    "Numbers = [123, 87, 96, 24, 104, 16, 55, 24, 19, 86, 776, 1945, 87.5, 12.34]\n",
    "Total = 0\n",
    "Count = 0\n",
    "for Num in Numbers:\n",
    "    Total = Total + Num\n",
    "    Count=Count+1\n",
    "if Count > 0 :\n",
    "    Average = Total/Count\n",
    "else :\n",
    "    Average = \"Can't compute the average of a sample of size 0.\"\n",
    "print (Average)\n"
   ]
  },
  {
   "cell_type": "markdown",
   "metadata": {},
   "source": [
    "### Strings"
   ]
  },
  {
   "cell_type": "code",
   "execution_count": null,
   "metadata": {},
   "outputs": [],
   "source": [
    "# Create a string object, a variable (s), and a reference from s to\n",
    "#    the string object.\n",
    "s = \"The dog is hungry.\"\n",
    "s"
   ]
  },
  {
   "cell_type": "code",
   "execution_count": null,
   "metadata": {},
   "outputs": [],
   "source": [
    "# Individual elements of the string\n",
    "s[0], s[1], s[2], s[12]"
   ]
  },
  {
   "cell_type": "code",
   "execution_count": null,
   "metadata": {},
   "outputs": [],
   "source": [
    "# string length ... Why doesn't s[len(s)] == '.'?\n",
    "len(s)\n",
    "#s[len(s)]"
   ]
  },
  {
   "cell_type": "code",
   "execution_count": null,
   "metadata": {},
   "outputs": [],
   "source": [
    "# Strings are immutable\n",
    "s[0] = 'x'"
   ]
  },
  {
   "cell_type": "code",
   "execution_count": null,
   "metadata": {},
   "outputs": [],
   "source": [
    "# slices - s[i:j] - give me everything from i up to (but not including) j\n",
    "s[4:9]"
   ]
  },
  {
   "cell_type": "code",
   "execution_count": null,
   "metadata": {},
   "outputs": [],
   "source": [
    "a = 6\n",
    "b = len(s) - 1\n",
    "s[a:b]"
   ]
  },
  {
   "cell_type": "code",
   "execution_count": null,
   "metadata": {},
   "outputs": [],
   "source": [
    "# If the intial number is blank, start at the front,\n",
    "#   if the second is blank, go to the end.\n",
    "s[:3]\n",
    "#s[3:]"
   ]
  },
  {
   "cell_type": "code",
   "execution_count": null,
   "metadata": {},
   "outputs": [],
   "source": [
    "# concatenation\n",
    "s + \" So give her some food.\"\n",
    "# note that this does not change s\n",
    "#s"
   ]
  },
  {
   "cell_type": "code",
   "execution_count": null,
   "metadata": {},
   "outputs": [],
   "source": [
    "# find substring\n",
    "s1 = s + \" So give her some food.\"\n",
    "s1.find('gry')"
   ]
  },
  {
   "cell_type": "code",
   "execution_count": null,
   "metadata": {},
   "outputs": [],
   "source": [
    "s1[s1.find('gry'):]"
   ]
  },
  {
   "cell_type": "code",
   "execution_count": null,
   "metadata": {},
   "outputs": [],
   "source": [
    "# replace\n",
    "s1.replace('dog', 'cat')\n",
    "# note that this creates a new object -- it doesn't change s1\n",
    "#s1"
   ]
  },
  {
   "cell_type": "code",
   "execution_count": null,
   "metadata": {},
   "outputs": [],
   "source": [
    "# split - splits a string into substrings\n",
    "s2 = \"eight, nine, 12, seventy, four\"\n",
    "s2.split(',')"
   ]
  },
  {
   "cell_type": "code",
   "execution_count": null,
   "metadata": {},
   "outputs": [],
   "source": [
    "# chaining functions/methods\n",
    "(s + \" So give her some food.\").split()"
   ]
  },
  {
   "cell_type": "code",
   "execution_count": null,
   "metadata": {},
   "outputs": [],
   "source": [
    "(s + \" So give her some food.\").replace('.','').split()"
   ]
  },
  {
   "cell_type": "markdown",
   "metadata": {},
   "source": [
    "### The format() method for string objects\n",
    "\n",
    "https://docs.python.org/3.1/library/string.html#format-specification-mini-language"
   ]
  },
  {
   "cell_type": "code",
   "execution_count": null,
   "metadata": {},
   "outputs": [],
   "source": [
    "a= 'Jim'\n",
    "b = 'Carl'\n",
    "c = 'Nancy'\n",
    "\"{:}, {:}, and {:} are going on a trip\".format(a, b, c)"
   ]
  },
  {
   "cell_type": "code",
   "execution_count": null,
   "metadata": {},
   "outputs": [],
   "source": [
    "# Can use modifiers to format the variable display\n",
    "salary = 122000\n",
    "\"{:}'s salary is ${:} per year.\".format(c, salary)\n",
    "#\"{:}'s salary is ${:,.2f} per year.\".format(c, salary)"
   ]
  },
  {
   "cell_type": "code",
   "execution_count": null,
   "metadata": {},
   "outputs": [],
   "source": []
  }
 ],
 "metadata": {
  "kernelspec": {
   "display_name": "Python 3",
   "language": "python",
   "name": "python3"
  },
  "language_info": {
   "codemirror_mode": {
    "name": "ipython",
    "version": 3
   },
   "file_extension": ".py",
   "mimetype": "text/x-python",
   "name": "python",
   "nbconvert_exporter": "python",
   "pygments_lexer": "ipython3",
   "version": "3.6.4"
  }
 },
 "nbformat": 4,
 "nbformat_minor": 2
}
