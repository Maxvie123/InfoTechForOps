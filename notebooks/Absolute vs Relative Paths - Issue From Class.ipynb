{
 "cells": [
  {
   "cell_type": "markdown",
   "metadata": {},
   "source": [
    "# File Path Issue - Resolution\n",
    "\n",
    "File path issue from class on 8/22 when I was trying to demonstrate the %run command and ran into \"file not found\" errors.\n",
    "<p>On my system, the file random_rolls is located at:\n",
    "<br>c:\\Users\\jsmith\\Documents\\GitHub\\InfoTechForOps\\code\\py\n",
    "<br>and the Jupyter notebooks are located at:\n",
    "<br>c:\\Users\\jsmith\\Documents\\GitHub\\InfoTechForOps\\code\\py\n",
    "<br>You will need to adjust the paths to match the locations on your system if you want to replicate\n"
   ]
  },
  {
   "cell_type": "code",
   "execution_count": null,
   "metadata": {},
   "outputs": [],
   "source": [
    "# The code I kept trying (which didn't work)\n",
    "%run \"code\\py\\random_rolls.py\""
   ]
  },
  {
   "cell_type": "code",
   "execution_count": null,
   "metadata": {},
   "outputs": [],
   "source": [
    "# and then I tried\n",
    "%run \"\\code\\py\\random_rolls.py\""
   ]
  },
  {
   "cell_type": "markdown",
   "metadata": {},
   "source": [
    "To understand why neither of these worked, we need to explore the concepts of <em>file paths</em>, <em>absolute paths</em>, <em>relative paths</em>."
   ]
  },
  {
   "cell_type": "code",
   "execution_count": null,
   "metadata": {},
   "outputs": [],
   "source": [
    "# import the os module\n",
    "import os"
   ]
  },
  {
   "cell_type": "code",
   "execution_count": null,
   "metadata": {},
   "outputs": [],
   "source": [
    "# get the current working directory\n",
    "os.getcwd()"
   ]
  },
  {
   "cell_type": "code",
   "execution_count": null,
   "metadata": {},
   "outputs": [],
   "source": [
    "# using a relative path\n",
    "%run \"..\\code\\py\\random_rolls.py\""
   ]
  },
  {
   "cell_type": "code",
   "execution_count": null,
   "metadata": {},
   "outputs": [],
   "source": [
    "# Using an absolute path\n",
    "%run \"\\Users\\jsmith\\Documents\\GitHub\\InfotechForOps\\code\\py\\random_rolls.py\""
   ]
  },
  {
   "cell_type": "code",
   "execution_count": null,
   "metadata": {},
   "outputs": [],
   "source": [
    "# Change the current working directory to the directory containing the file\n",
    "os.chdir(\"/Users/jsmith/Documents/GitHub/InfoTechForOps/code/py\")"
   ]
  },
  {
   "cell_type": "code",
   "execution_count": null,
   "metadata": {},
   "outputs": [],
   "source": [
    "# Now we don't need to specify the path component\n",
    "%run \"random_rolls.py\""
   ]
  },
  {
   "cell_type": "code",
   "execution_count": null,
   "metadata": {},
   "outputs": [],
   "source": [
    "# change the directory back to the notebook location\n",
    "os.chdir(\"/Users/jsmith/Documents/GitHub/InfoTechForOps/notebooks\")"
   ]
  },
  {
   "cell_type": "markdown",
   "metadata": {},
   "source": [
    "If you are using the directory structure from the GitHub repository, <b>relative paths should always work as long as you are accessing files from within the repository structure</b>.  Absolute paths will need to be adjusted to match your configuration."
   ]
  },
  {
   "cell_type": "markdown",
   "metadata": {},
   "source": [
    "Final note -- if you are using a path in a markdown cell (e.g., using an image tag), there is a slight difference in absolute paths.  Since markdown is similar to html, absolute paths are based on the home of the server, not the operating system.  For Jupyter Notebook, this will be the directory where you started Jupyter Notebook."
   ]
  },
  {
   "cell_type": "code",
   "execution_count": null,
   "metadata": {},
   "outputs": [],
   "source": []
  }
 ],
 "metadata": {
  "kernelspec": {
   "display_name": "Python 3",
   "language": "python",
   "name": "python3"
  },
  "language_info": {
   "codemirror_mode": {
    "name": "ipython",
    "version": 3
   },
   "file_extension": ".py",
   "mimetype": "text/x-python",
   "name": "python",
   "nbconvert_exporter": "python",
   "pygments_lexer": "ipython3",
   "version": "3.7.3"
  }
 },
 "nbformat": 4,
 "nbformat_minor": 2
}
