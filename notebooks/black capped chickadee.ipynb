{
 "cells": [
  {
   "cell_type": "code",
   "execution_count": null,
   "metadata": {},
   "outputs": [],
   "source": [
    "# Genetic Data Associated with Avian Keratin Disorder and Poecivirus in Black-capped Chickadees, Alaska, 2001-2017"
   ]
  },
  {
   "cell_type": "code",
   "execution_count": null,
   "metadata": {},
   "outputs": [],
   "source": [
    "This dataset contains results of genetic screening for Poecivirus from samples of black-capped chickadees (BCCH; Poecile atricapillus) with and without clinical signs of avian keratin disorder (AKD). Data include information on detection/non-detection of the virus in tissue collected with buccal swabs, cloacal swabs, blood samples, and fecal samples from up to 124 individuals between 2015 and 2017 from various locations in southcentral Alaska. For an additional 17 symptomatic (and one asymptomatic) individual(s) collected between 2001 and 2015 in the same region, data include measurements of viral load in beak tissue measured by qRT-PCR as well as the amount of actively replicating virus detected by 7 negative-strand and 2 positive-strand oligonucleotide probes, all relative to amounts of host RNA. Ancillary data on beak measurements, clinical signs of AKD (beak overgrowth or hyperkeratosis at the cellular level), locations, and dates of collection are also included for each individual.\n",
    "\n",
    "[source](https://alaska.usgs.gov/data/metadata/ecosystems/landBirds/disease/poecivirus/blackCappedChickadee/blackCappedChickadee_poecivirus_southcentralAlaska_zylberberg_2001_2017/blackCappedChickadee_poecivirus_southcentralAlaska_zylberberg_2001_2017_metadata.html)\n",
    "\n",
    "## More about <font color=red>Avian keratin disorder</font>\n",
    "\n",
    "\n",
    "\n",
    "![image.png](attachment:image.png)\n",
    "\n",
    "\n",
    "In **AKD**, accelerated growth of the keratinized outer layer of the beak (the rhamphotheca). causes elongation and crossing of the mandibles of the beak. This is debilitating and often deadly, as it obstructs the birds' ability to feed and preen themselves, with the resulting dirty and matted plumage unable to play its role in thermoregulation. [Wikipedia](https://en.wikipedia.org/wiki/Avian_keratin_disorde)\n",
    "\n",
    "\n",
    "\n",
    "## A video\n",
    "\n",
    "If you want to know how to add a video from You tube to a jupyter notebook or you want to know more about this disorder:\n",
    "\n"
   ]
  },
  {
   "cell_type": "code",
   "execution_count": null,
   "metadata": {},
   "outputs": [],
   "source": [
    "#import the tools\n",
    "from IPython.display import HTML\n",
    "\n",
    "from IPython.lib.display import YouTubeVideo\n",
    "#from the web address (https://www.youtube.com/watch?v=Xdwd910Qfl4) just use the part after the = sign\n",
    "YouTubeVideo('Xdwd910Qfl4')"
   ]
  },
  {
   "cell_type": "code",
   "execution_count": null,
   "metadata": {},
   "outputs": [],
   "source": [
    "# Import some tools\n",
    "%matplotlib inline\n",
    "import numpy as np\n",
    "import pandas as pd\n",
    "import matplotlib.pyplot as plt"
   ]
  },
  {
   "cell_type": "code",
   "execution_count": null,
   "metadata": {},
   "outputs": [],
   "source": [
    "# Read the data into a dataframe using Pandas\n",
    "df = pd.read_csv('../data/blackCappedChickadee_poecivirus_swabFecalBlood_southcentralAlaska_zylberberg_2001_2017.csv')\n",
    "df.head()"
   ]
  },
  {
   "cell_type": "markdown",
   "metadata": {},
   "source": [
    "### Number of sick birds in each location."
   ]
  },
  {
   "cell_type": "code",
   "execution_count": null,
   "metadata": {},
   "outputs": [],
   "source": [
    "# Here we used the Construction Price Indexes jupyter notebook codes to show how you can use them to extract\n",
    "# some information from the data set.\n",
    "# Define a \"show\" function - note the default value for the (now) optional parameter.\n",
    "#  dataset is a list of lists of strings.\n",
    "def show(dataset = [[\"No dataset sent\"]]):\n",
    "    for r in dataset:\n",
    "        # print elements in a tab-separated format\n",
    "        print (\"\\t\".join(r))\n"
   ]
  },
  {
   "cell_type": "code",
   "execution_count": null,
   "metadata": {},
   "outputs": [],
   "source": [
    "# Grab all the lines from the file starting with line 2, strip\n",
    "# the newline and tokenize\n",
    "with open(\"../data/blackCappedChickadee_poecivirus_swabFecalBlood_southcentralAlaska_zylberberg_2001_2017.csv\") as f:\n",
    "    vdataset = [line.rstrip().split(',') for line in f.readlines()[1:]]\n",
    "# show the data\n",
    "show(vdataset)\n",
    "\n",
    "\n"
   ]
  },
  {
   "cell_type": "code",
   "execution_count": null,
   "metadata": {},
   "outputs": [],
   "source": [
    "# Here we constructed a list of locations and then counted the number of sick birds\n",
    "# that is observed in each location.\n",
    "Locations_list=[\"Anchorage\", \"Chugiak\", \"Eagle River\", \"Wasilla\" ]\n",
    "for j in Locations_list:\n",
    "   count=0\n",
    "   for p in vdataset:\n",
    "       if p[6]==j and p[11]==\"yes\":\n",
    "                count+=1\n",
    "   print  (\"{:} sick birds in {:}\".format(count, j))\n"
   ]
  },
  {
   "cell_type": "markdown",
   "metadata": {},
   "source": [
    "### Number of observations in each day."
   ]
  },
  {
   "cell_type": "code",
   "execution_count": null,
   "metadata": {},
   "outputs": [],
   "source": [
    "# Here we counted the number of observations in each day\n",
    "daylist=[]\n",
    "for p in vdataset:\n",
    "    if p[4]+\"/\"+p[5]+\"/\"+p[3] in daylist:\n",
    "              pass\n",
    "    else:\n",
    "        daylist.append(p[4]+\"/\"+p[5]+\"/\"+p[3])\n",
    "\n",
    "for j in daylist:\n",
    "   count=0\n",
    "   for p in vdataset:\n",
    "       if (p[4]+\"/\"+p[5]+\"/\"+p[3])==j:\n",
    "                count+=1\n",
    "   print  (\"{:} observaions in {:}\".format(count, j))"
   ]
  },
  {
   "cell_type": "markdown",
   "metadata": {},
   "source": [
    "### Number of sick birds in each year."
   ]
  },
  {
   "cell_type": "code",
   "execution_count": null,
   "metadata": {},
   "outputs": [],
   "source": [
    "# Here we counted the number of sick birds in each year.\n",
    "year_list=[\"2015\", \"2016\", \"2017\"]\n",
    "for j in year_list:\n",
    "   count=0\n",
    "   for p in vdataset:\n",
    "       if p[3]==j and p[11]==\"yes\":\n",
    "                count+=1\n",
    "   print  (\"{:} sick birds in {:}\".format(count, j))"
   ]
  },
  {
   "cell_type": "markdown",
   "metadata": {},
   "source": [
    "## Some examples for Numpy"
   ]
  },
  {
   "cell_type": "code",
   "execution_count": null,
   "metadata": {},
   "outputs": [],
   "source": [
    "# some statistics about the nares to tip measure\n",
    "# First put the column in a Numpy array\n",
    "length=np.array(df['nares_to_tip'])\n"
   ]
  },
  {
   "cell_type": "code",
   "execution_count": null,
   "metadata": {},
   "outputs": [],
   "source": [
    "# min, max, std and average of the nares to tip measure\n",
    "print(\"Mean length:       \", length.mean())\n",
    "print(\"Standard deviation:\", length.std())\n",
    "print(\"Minimum length:    \", length.min())\n",
    "print(\"Maximum length:    \", length.max())"
   ]
  },
  {
   "cell_type": "code",
   "execution_count": null,
   "metadata": {},
   "outputs": [],
   "source": [
    "# 25th, 50th, and 75th percentile\n",
    "print(\"25th percentile:   \", np.percentile(length, 25))\n",
    "print(\"Median:            \", np.median(length))\n",
    "print(\"75th percentile:   \", np.percentile(length, 75))"
   ]
  },
  {
   "cell_type": "code",
   "execution_count": null,
   "metadata": {},
   "outputs": [],
   "source": [
    "# If we want to change centimeters to inches:\n",
    "length_in_inch=length*0.393701\n",
    "length_in_inch\n"
   ]
  },
  {
   "cell_type": "code",
   "execution_count": null,
   "metadata": {},
   "outputs": [],
   "source": [
    "# How many birds with nares to tip measure less than 7 centimeters?\n",
    "# To know more about the count_nonzero check this website address:\n",
    "# https://docs.scipy.org/doc/numpy/reference/generated/numpy.count_nonzero.html\n",
    "np.count_nonzero(length < 7)"
   ]
  },
  {
   "cell_type": "code",
   "execution_count": null,
   "metadata": {},
   "outputs": [],
   "source": [
    "# How many birds are sick?\n",
    "akd=df['akd']\n",
    "np.count_nonzero(akd==\"yes\")"
   ]
  },
  {
   "cell_type": "code",
   "execution_count": null,
   "metadata": {},
   "outputs": [],
   "source": [
    "# How many birds that their nares to tip measure is lesser than 10 cm are sick?\n",
    "# To know more about the sum check this website address:\n",
    "# https://docs.scipy.org/doc/numpy/reference/generated/numpy.sum.html\n",
    "np.sum((length < 10) & (akd == \"yes\"))"
   ]
  },
  {
   "cell_type": "code",
   "execution_count": null,
   "metadata": {},
   "outputs": [],
   "source": [
    "# construct a mask of all sick brids\n",
    "sick = (akd == \"yes\")\n",
    "\n",
    "# construct a mask of all birds with nares to tip measure that is bigger than 10 cm\n",
    "big = (length>10)\n",
    "\n",
    "print(\"Median length for the birds that are bigger than 10 cm:   \",\n",
    "      np.median(length[big]))\n",
    "print(\"Median length for sick birds that are not bigger than 10 cm:\",\n",
    "      np.median(length[sick & ~big]))"
   ]
  },
  {
   "cell_type": "markdown",
   "metadata": {},
   "source": [
    "## Some examples for Pandas"
   ]
  },
  {
   "cell_type": "code",
   "execution_count": null,
   "metadata": {},
   "outputs": [],
   "source": [
    "# listing items that are available in the data frame\n",
    "list(df.items())"
   ]
  },
  {
   "cell_type": "markdown",
   "metadata": {},
   "source": [
    "### Some information about the sick birds\n",
    "Here we are looking for the band numbers, location, observation date of sick birds. "
   ]
  },
  {
   "cell_type": "code",
   "execution_count": null,
   "metadata": {},
   "outputs": [],
   "source": [
    "# To know more about the loc() check this website address:\n",
    "# https://pandas.pydata.org/pandas-docs/stable/generated/pandas.DataFrame.loc.html\n",
    "# Here we searched for the birds that are sick (in 'akd' column the value is 'yes' for them) \n",
    "# and showed the band_number, location, year, month, and day columns for them.\n",
    "df.loc[(df['akd']== 'yes')  ,['band_number', 'location', 'year', 'month', 'day']]"
   ]
  },
  {
   "cell_type": "markdown",
   "metadata": {},
   "source": [
    "### The relation between the virus and AKD\n",
    "Based on the **Wikipedia** we are not sure that if there is a relationship between virus and the disease. Here we listed the birds that has AKD and poecivirus is detected in their cloacal swab. "
   ]
  },
  {
   "cell_type": "code",
   "execution_count": null,
   "metadata": {},
   "outputs": [],
   "source": [
    "# Here we used '&' to show the birds that had the akd and had the virus in their cloacal swab sample to see if there is a\n",
    "# relation between them (However, we did not used statistical methods)\n",
    "df.loc[(df['cloacal_swab_poecivirus_detected']=='yes') & (df['akd']== 'yes'),['band_number', 'location', 'year', 'month', 'day']]"
   ]
  },
  {
   "cell_type": "markdown",
   "metadata": {},
   "source": [
    "Here we listed the birds that had AKD and also poecivirus is detected in their buccal swab. "
   ]
  },
  {
   "cell_type": "code",
   "execution_count": null,
   "metadata": {},
   "outputs": [],
   "source": [
    "# To see which sample can be a better a detector of the disorder we also checked the birds\n",
    "# that had the disorder and the virus in their buccal swab samples.\n",
    "df.loc[(df['buccal_swab_poecivirus_detected']=='yes') & (df['akd']== 'yes'),['band_number', 'location', 'year', 'month', 'day']]"
   ]
  },
  {
   "cell_type": "markdown",
   "metadata": {},
   "source": [
    "It seems that if there is a relation between poecivirus and AKD, cloacal swab samples are better detectors for that."
   ]
  },
  {
   "cell_type": "markdown",
   "metadata": {},
   "source": [
    "### Number of observations in each location."
   ]
  },
  {
   "cell_type": "code",
   "execution_count": null,
   "metadata": {},
   "outputs": [],
   "source": [
    "# To  know more about the concat check this website address:\n",
    "# https://pandas.pydata.org/pandas-docs/stable/generated/pandas.concat.html\n",
    "# Here we added two columns (observation and location) from the original data frame and put them in another one.\n",
    "df2=pd.concat([df['observation'], df['location']], axis=1)\n",
    "# Here we grouped them by location\n",
    "observations_in_each_location = df2.groupby('location')\n",
    "# Here we counted the number of observations in each location\n",
    "# To know about the count check this website address:\n",
    "# https://pandas.pydata.org/pandas-docs/stable/generated/pandas.DataFrame.count.html\n",
    "observations_in_each_location.count()"
   ]
  },
  {
   "cell_type": "code",
   "execution_count": null,
   "metadata": {},
   "outputs": [],
   "source": [
    "# Convert to inches using panda\n",
    "lengthdf=df['nares_to_tip']\n",
    "length_to_inchdf = lengthdf*0.393701\n",
    "length_to_inchdf"
   ]
  },
  {
   "cell_type": "code",
   "execution_count": null,
   "metadata": {},
   "outputs": [],
   "source": [
    "# Calculating the nares to tip measuere mean by Pandas package\n",
    "df['nares_to_tip'].mean()"
   ]
  },
  {
   "cell_type": "code",
   "execution_count": null,
   "metadata": {},
   "outputs": [],
   "source": [
    "# Show the birds that their nares to tip measure is lesser than 10 cm are sick using Pandas \n",
    "df[(df['nares_to_tip']<10) & (df['akd']=='yes')]"
   ]
  },
  {
   "cell_type": "code",
   "execution_count": null,
   "metadata": {},
   "outputs": [],
   "source": [
    "# Now we can calculate the average of the length for the birds that are sick and are smaller than 10 cm\n",
    "df[(df['nares_to_tip']<10) & (df['akd']=='yes')]['nares_to_tip'].mean()"
   ]
  },
  {
   "cell_type": "code",
   "execution_count": null,
   "metadata": {},
   "outputs": [],
   "source": [
    "# Here we used the groupy function to see average length of birds for each location\n",
    "df.groupby('location')[['nares_to_tip']].mean()"
   ]
  },
  {
   "cell_type": "code",
   "execution_count": null,
   "metadata": {},
   "outputs": [],
   "source": [
    "# Here we try to see some statistics about the nares to tip measure in different location. \n",
    "df.groupby(['akd','location'])[['nares_to_tip']].aggregate(['min', 'median', 'mean', 'max'])"
   ]
  },
  {
   "cell_type": "markdown",
   "metadata": {},
   "source": [
    "We can see from the output, sick birds  are bigger (maybe because their beaks are longer as a result of the disorder). \n",
    "Another interesting information that we gained from this table is that all the birds in the Wasilla were sick, however, we know from the previous parts that we have just 2 observations from Wasilla then, we can not be sure if this location have a more serious problem about thid disorder."
   ]
  },
  {
   "cell_type": "markdown",
   "metadata": {},
   "source": [
    "## Some Plots"
   ]
  },
  {
   "cell_type": "markdown",
   "metadata": {},
   "source": [
    "### nares_to_tip"
   ]
  },
  {
   "cell_type": "code",
   "execution_count": null,
   "metadata": {},
   "outputs": [],
   "source": [
    "# Look at observation and nares to tip measure.\n",
    "ax = df.plot(x=\"observation\", y=\"nares_to_tip\")\n",
    "# Show the overall mean on the plot\n",
    "ax.axhline(y=df['nares_to_tip'].mean(), xmin=0, xmax=1, color='orange', linestyle='--', lw=2)\n",
    "# print the average\n",
    "print(\"Average: {:,.1f} centimeters.\".format(df['nares_to_tip'].mean()))"
   ]
  },
  {
   "cell_type": "code",
   "execution_count": null,
   "metadata": {},
   "outputs": [],
   "source": [
    "# Histogram of nares to tip\n",
    "df.hist(column=\"nares_to_tip\")"
   ]
  },
  {
   "cell_type": "markdown",
   "metadata": {},
   "source": [
    "### AKD\n",
    "Here we want to find out the percentage of the birds that have the AKD using a piechart. "
   ]
  },
  {
   "cell_type": "code",
   "execution_count": null,
   "metadata": {},
   "outputs": [],
   "source": [
    "# Piechart for percentage of birds with akd\n",
    "# To know about the groupby check this website address:\n",
    "# (https://pandas.pydata.org/pandas-docs/stable/generated/pandas.DataFrame.groupby.html)\n",
    "# To know about the agg check this website address:\n",
    "# https://pandas.pydata.org/pandas-docs/stable/generated/pandas.DataFrame.agg.html\n",
    "# Here we grouped the values of the 'akd' column (that are 'yes' and 'no') and counted the number of each\n",
    "akd_percentage = df.groupby('akd').agg('count')\n",
    "# To know about the sort_values() check this website address:\n",
    "# https://pandas.pydata.org/pandas-docs/stable/generated/pandas.DataFrame.sort_values.html\n",
    "# To know about the index check this website address:\n",
    "# https://pandas.pydata.org/pandas-docs/stable/generated/pandas.Index.html\n",
    "# Here we built the array (akd_counts) and the labels (akd_counts) that are needed to plot a pie chart using the matplotlib:\n",
    "akd_labels = akd_percentage.observation.sort_values().index\n",
    "akd_counts = akd_percentage.observation.sort_values()\n",
    "# To know about the pie() check this website address:\n",
    "# https://matplotlib.org/api/_as_gen/matplotlib.pyplot.pie.html\n",
    "akd_pie = plt.pie(akd_counts,labels=akd_labels, autopct='%.1f%%', shadow=True, colors=['r','g'])"
   ]
  },
  {
   "cell_type": "code",
   "execution_count": null,
   "metadata": {},
   "outputs": [],
   "source": [
    "# To know the output of this part: df.groupby('akd').agg('count')\n",
    "akd_percentage"
   ]
  },
  {
   "cell_type": "code",
   "execution_count": null,
   "metadata": {},
   "outputs": [],
   "source": [
    "# To know the result of this part: akd_percentage.observation.sort_values().index\n",
    "akd_labels"
   ]
  },
  {
   "cell_type": "code",
   "execution_count": null,
   "metadata": {},
   "outputs": [],
   "source": [
    "# To know the output of this part: akd_percentage.observation.sort_values()\n",
    "akd_counts"
   ]
  }
 ],
 "metadata": {
  "kernelspec": {
   "display_name": "Python 3",
   "language": "python",
   "name": "python3"
  },
  "language_info": {
   "codemirror_mode": {
    "name": "ipython",
    "version": 3
   },
   "file_extension": ".py",
   "mimetype": "text/x-python",
   "name": "python",
   "nbconvert_exporter": "python",
   "pygments_lexer": "ipython3",
   "version": "3.7.1"
  }
 },
 "nbformat": 4,
 "nbformat_minor": 2
}
