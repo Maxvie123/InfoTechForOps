{
 "cells": [
  {
   "cell_type": "markdown",
   "metadata": {},
   "source": [
    "# Miscellneous Python Topics\n",
    "I'm going to use this notebook for some miscealleous Python topics that may be useful.  I'll add new topics as they become important in the class.\n",
    "\n",
    "## Date and Time Handling\n",
    "Main module documentation: https://docs.python.org/3/library/datetime.html"
   ]
  },
  {
   "cell_type": "code",
   "execution_count": null,
   "metadata": {},
   "outputs": [],
   "source": [
    "# the main datetime module\n",
    "import datetime"
   ]
  },
  {
   "cell_type": "code",
   "execution_count": null,
   "metadata": {},
   "outputs": [],
   "source": [
    "today = datetime.date.today()\n",
    "today"
   ]
  },
  {
   "cell_type": "code",
   "execution_count": null,
   "metadata": {},
   "outputs": [],
   "source": [
    "print(today.day, today.month, today.year)"
   ]
  },
  {
   "cell_type": "code",
   "execution_count": null,
   "metadata": {},
   "outputs": [],
   "source": [
    "rightnow = datetime.datetime.now()\n",
    "rightnow"
   ]
  },
  {
   "cell_type": "code",
   "execution_count": null,
   "metadata": {},
   "outputs": [],
   "source": [
    "# Converting string representaions to datetime objects\n",
    "dstr = \"9/4/2018\"\n",
    "d = datetime.datetime.strptime(dstr, \"%m/%d/%Y\")\n",
    "d"
   ]
  },
  {
   "cell_type": "code",
   "execution_count": null,
   "metadata": {},
   "outputs": [],
   "source": [
    "# Convertime datetime objects to strings\n",
    "today.strftime(\"%m/%d/%Y\") "
   ]
  },
  {
   "cell_type": "code",
   "execution_count": null,
   "metadata": {},
   "outputs": [],
   "source": [
    "today.strftime(\"%m/%d/%y\") "
   ]
  },
  {
   "cell_type": "code",
   "execution_count": null,
   "metadata": {},
   "outputs": [],
   "source": [
    "today.strftime(\"%B %d, %Y\") "
   ]
  },
  {
   "cell_type": "code",
   "execution_count": null,
   "metadata": {},
   "outputs": [],
   "source": [
    "# from our Construction Price Indexes problem ...\n",
    "# Now we can deal with the dates ... Original version\n",
    "# keeping dates as the original strings\n",
    "with open(\"..\\data\\construction1u.csv\") as f:\n",
    "    vdataset = [line.rstrip().split(',') for line in f.readlines()[5:]]\n",
    "# Convert the 2nd and 3rd elements to floats    \n",
    "for row in vdataset:\n",
    "    row[1] = float(row[1])\n",
    "    row[2] = float(row[2])\n",
    "vdataset[:5]"
   ]
  },
  {
   "cell_type": "code",
   "execution_count": null,
   "metadata": {},
   "outputs": [],
   "source": [
    "# new version with dates converted to datetime objects\n",
    "with open(\"..\\data\\construction1u.csv\") as f:\n",
    "    vdataset = [line.rstrip().split(',') for line in f.readlines()[5:]]\n",
    "# Convert the 2nd and 3rd elements to floats    \n",
    "for row in vdataset:\n",
    "    row[0] = datetime.datetime.strptime(row[0], \"%m/%d/%Y\").date()\n",
    "    row[1] = float(row[1])\n",
    "    row[2] = float(row[2])\n",
    "vdataset[:5]"
   ]
  },
  {
   "cell_type": "code",
   "execution_count": null,
   "metadata": {},
   "outputs": [],
   "source": []
  }
 ],
 "metadata": {
  "kernelspec": {
   "display_name": "Python 3",
   "language": "python",
   "name": "python3"
  },
  "language_info": {
   "codemirror_mode": {
    "name": "ipython",
    "version": 3
   },
   "file_extension": ".py",
   "mimetype": "text/x-python",
   "name": "python",
   "nbconvert_exporter": "python",
   "pygments_lexer": "ipython3",
   "version": "3.6.4"
  }
 },
 "nbformat": 4,
 "nbformat_minor": 2
}
