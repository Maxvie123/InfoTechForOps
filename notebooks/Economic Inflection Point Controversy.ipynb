{
 "cells": [
  {
   "cell_type": "markdown",
   "metadata": {},
   "source": [
    "# Econonomic Inflection Point Controversy\n",
    "\n",
    "I generally try to avoid political arguments -- especially with my classes.  However, I was listening to the news the other day and I heard that President Obama and President Trump were arguing (not directly with each other) over who's economic policies had improved the country's economy more.  Ordinarily, I would simply roll my eyes, mutter a complaint to myself, and switch to another station to avoid the political babble.  However, before I could do that, I heard something very interesting -- the quotes are repeated below.\n",
    "\n",
    "-- Quote starts here --\n",
    "\n",
    "\"It's not a sugar high at all,\" said White House chief economic adviser Kevin Hassett, who told reporters at a briefing that President Donald Trump's plans to ease regulations, cut taxes, and push pro-growth policies had obviously shifted the trajectory of the economy.\n",
    "\n",
    "\"There was an inflection at the election of Donald Trump,\" Hassett said in the White House Briefing Room, who said a \"whole bunch of data items\" started going in a positive direction after the 2016 election, fueling more growth overall.\n",
    "\n",
    "-- Quote ends here --\n",
    "\n",
    "My interest was piqued by the use of the term \"inflection\" by the White House chief economic adviser.  From my understanding (which you should not blindly assume is correct), an inflection point is a mathematical thing (and as such, a measurable thing), not an opinion and not spinnable.\n",
    "\n",
    "So, I asked my T.A. to find the monthly values for three generally used economic indicators for \"a while back.\"  The values are the unemployment rate, the number of jobs added, and gross domestic product (GDP).  Turns out that GDP is only reported quarterly so we have monthly values for unemployment and jobs and quarterly values for GDP -- since January, 2008.\n",
    "\n",
    "Below, I have read the data into a Pandas DataFrame and created some very basic plots of the three factors.  Your assignment is to use Pandas/NumPy/Matplotlib along with your analytical skills to solve the arguement of whether or not there was a clear inflection point on President Trump's election (or anywhere else in the timeframe).\n",
    "\n",
    "Finally, while I will gladly read your political opionions and comments, I will be GRADING only your analysis and your use of the software tools to support your arguement(s).  "
   ]
  },
  {
   "cell_type": "code",
   "execution_count": null,
   "metadata": {},
   "outputs": [],
   "source": [
    "# getting things ready\n",
    "%matplotlib inline\n",
    "import numpy as np\n",
    "import pandas as pd\n",
    "import matplotlib.pyplot as plt\n"
   ]
  },
  {
   "cell_type": "code",
   "execution_count": null,
   "metadata": {},
   "outputs": [],
   "source": [
    "df = pd.read_csv(\"../data/10_us_economic_data.csv\")\n",
    "df.head()"
   ]
  },
  {
   "cell_type": "code",
   "execution_count": null,
   "metadata": {},
   "outputs": [],
   "source": [
    "df.tail()"
   ]
  },
  {
   "cell_type": "code",
   "execution_count": null,
   "metadata": {},
   "outputs": [],
   "source": [
    "df.plot(y=\"JobsAdded\")"
   ]
  },
  {
   "cell_type": "code",
   "execution_count": null,
   "metadata": {},
   "outputs": [],
   "source": [
    "df.plot(y=\"UnemploymentRate\")"
   ]
  },
  {
   "cell_type": "code",
   "execution_count": null,
   "metadata": {},
   "outputs": [],
   "source": [
    "df['GDP'].dropna().plot()"
   ]
  },
  {
   "cell_type": "code",
   "execution_count": null,
   "metadata": {},
   "outputs": [],
   "source": []
  }
 ],
 "metadata": {
  "kernelspec": {
   "display_name": "Python 3",
   "language": "python",
   "name": "python3"
  },
  "language_info": {
   "codemirror_mode": {
    "name": "ipython",
    "version": 3
   },
   "file_extension": ".py",
   "mimetype": "text/x-python",
   "name": "python",
   "nbconvert_exporter": "python",
   "pygments_lexer": "ipython3",
   "version": "3.6.4"
  }
 },
 "nbformat": 4,
 "nbformat_minor": 2
}
