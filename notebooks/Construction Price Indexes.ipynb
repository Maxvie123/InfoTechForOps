{
 "cells": [
  {
   "cell_type": "markdown",
   "metadata": {},
   "source": [
    "# Construction Price Indexes Dataset\n",
    "Source: https://www.census.gov/construction/cpi/\n",
    "\n",
    "Description: <a href=\"..\\data\\Construction  Price Indexes - Description.pdf\">Construction Price Indexes.pdf</a>\n",
    "\n",
    "Excel version: <a href=\"..\\data\\Construction  Price Indexes - Updated.xls\">Construction Price Indexes - Updated.xls</a>\n",
    "\n",
    "## Reading the data sets\n",
    "Initially, we are simply reading the data in as strings are are not doing any data type converions.  We'll get to that in a little bit.\n"
   ]
  },
  {
   "cell_type": "code",
   "execution_count": null,
   "metadata": {},
   "outputs": [],
   "source": [
    "# Define a \"show\" function - note the default value for the (now) optional parameter.\n",
    "#  dataset is a list of lists of strings.\n",
    "def show(dataset = [[\"No dataset sent\"]]):\n",
    "    for r in dataset:\n",
    "        # print elements in a tab-separated format\n",
    "        print (\"\\t\".join(r))\n",
    "\n",
    "# sample calls\n",
    "show([[\"one\", \"two\", \"three\"], [\"four\", \"five\", \"six\"], [\"seven\", \"eight\", \"nine\"]])\n",
    "#show()"
   ]
  },
  {
   "cell_type": "markdown",
   "metadata": {},
   "source": [
    "### Start with the \"vertical\" version of the dataset"
   ]
  },
  {
   "cell_type": "code",
   "execution_count": null,
   "metadata": {},
   "outputs": [],
   "source": [
    "#\n",
    "# Initial version - \"standard programming\"\n",
    "#\n",
    "# Define a list for the data.  Will be a list of lists.\n",
    "data = []\n",
    "# open the file\n",
    "fname = \"..\\data\\construction1.csv\"\n",
    "f = open(fname, \"r\")\n",
    "# ignore the first 5 lines\n",
    "for i in range(6):\n",
    "    line = f.readline()\n",
    "# loop until we run out of lines\n",
    "while (line):\n",
    "    # strip the newline and tokenize (split on commas, in this case)\n",
    "    tokens = line.rstrip().split(',')\n",
    "    # append this record to the dataset\n",
    "    data.append(tokens)\n",
    "    # read the next line\n",
    "    line = f.readline()\n",
    "# close the file\n",
    "f.close()\n",
    "# show the data\n",
    "show(data)"
   ]
  },
  {
   "cell_type": "code",
   "execution_count": null,
   "metadata": {},
   "outputs": [],
   "source": [
    "#\n",
    "# Python-esque version 1\n",
    "#\n",
    "# Grab all the lines from the file starting with line 6, strip\n",
    "# the newline and tokenize\n",
    "with open(\"..\\data\\construction1.csv\") as f:\n",
    "    vdataset = [line.rstrip().split(',') for line in f.readlines()[5:]]\n",
    "# show the data\n",
    "show(vdataset)\n"
   ]
  },
  {
   "cell_type": "code",
   "execution_count": null,
   "metadata": {},
   "outputs": [],
   "source": [
    "#\n",
    "# Python-esque version 2 - this time as a list of strings\n",
    "#\n",
    "# use the csv module\n",
    "import csv\n",
    "with open(\"..\\data\\construction1.csv\") as f:\n",
    "    reader = csv.reader(f)\n",
    "    for row in reader:\n",
    "        ds.append(row)\n",
    "# show the data\n",
    "show(ds)"
   ]
  },
  {
   "cell_type": "markdown",
   "metadata": {},
   "source": [
    "### The row version of the Laspeyres index"
   ]
  },
  {
   "cell_type": "code",
   "execution_count": null,
   "metadata": {},
   "outputs": [],
   "source": [
    "# original version\n",
    "with open(\"..\\data\\construction2.csv\") as f:\n",
    "    ldataset = [line.rstrip().split(',') for line in f.readlines()[7:]]\n",
    "# show\n",
    "show(ldataset)\n"
   ]
  },
  {
   "cell_type": "code",
   "execution_count": null,
   "metadata": {},
   "outputs": [],
   "source": [
    "# removed spacing columns\n",
    "with open(\"..\\data\\construction2u.csv\") as f:\n",
    "    ldataset = [line.rstrip().split(',') for line in f.readlines()[4:]]\n",
    "# show\n",
    "show(ldataset)"
   ]
  },
  {
   "cell_type": "code",
   "execution_count": null,
   "metadata": {},
   "outputs": [],
   "source": []
  }
 ],
 "metadata": {
  "kernelspec": {
   "display_name": "Python 3",
   "language": "python",
   "name": "python3"
  },
  "language_info": {
   "codemirror_mode": {
    "name": "ipython",
    "version": 3
   },
   "file_extension": ".py",
   "mimetype": "text/x-python",
   "name": "python",
   "nbconvert_exporter": "python",
   "pygments_lexer": "ipython3",
   "version": "3.6.4"
  }
 },
 "nbformat": 4,
 "nbformat_minor": 2
}
