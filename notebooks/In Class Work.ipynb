{
 "cells": [
  {
   "cell_type": "markdown",
   "metadata": {},
   "source": [
    "# In Class Work 1\n",
    "This notebook will store the in class work that I do.\n",
    "\n",
    "Some LaTeX: $\\sum_{n=1}^{10}2^{-n}$ (just to show that LaTex is rendered in markdown)"
   ]
  },
  {
   "cell_type": "code",
   "execution_count": null,
   "metadata": {},
   "outputs": [],
   "source": [
    "print (\"Hello World!\")"
   ]
  },
  {
   "cell_type": "code",
   "execution_count": null,
   "metadata": {},
   "outputs": [],
   "source": [
    "for j in range(20):\n",
    "    print (\"[{:2d}] Hello World.\".format(j))"
   ]
  },
  {
   "cell_type": "code",
   "execution_count": null,
   "metadata": {},
   "outputs": [],
   "source": [
    "import numpy as np\n",
    "rolls = np.random.randint(1, 7, 1000)\n",
    "[list(rolls).count(j) for j in range(1, 7)]"
   ]
  },
  {
   "cell_type": "code",
   "execution_count": null,
   "metadata": {},
   "outputs": [],
   "source": [
    "\"Average: {:.3f}; Std. Dev.: {:.3f}\".format(np.mean(rolls), np.std(rolls))"
   ]
  },
  {
   "cell_type": "code",
   "execution_count": null,
   "metadata": {},
   "outputs": [],
   "source": [
    "L = [1, 2, 42, 55, 1, 1, 2, 3, 4, 5, 96, 19, 22, 78, 17, 78, 2, 2, 2, 5, 14, 90, 96, 96, 97]"
   ]
  },
  {
   "cell_type": "code",
   "execution_count": null,
   "metadata": {},
   "outputs": [],
   "source": [
    "d = {}\n",
    "for j in L:\n",
    "    if j in d:\n",
    "        d[j] = d[j] + 1\n",
    "    else:\n",
    "        d[j] = 1\n",
    "d"
   ]
  },
  {
   "cell_type": "code",
   "execution_count": null,
   "metadata": {},
   "outputs": [],
   "source": [
    "# the ternary if version that I didn't get to in class\n",
    "d = {}\n",
    "for j in L:\n",
    "    d[j] = d[j] + 1 if j in d else 1\n",
    "d"
   ]
  },
  {
   "cell_type": "code",
   "execution_count": null,
   "metadata": {},
   "outputs": [],
   "source": [
    "list(d.keys())"
   ]
  },
  {
   "cell_type": "code",
   "execution_count": null,
   "metadata": {},
   "outputs": [],
   "source": [
    "[k for k in d if d[k] > 1]"
   ]
  },
  {
   "cell_type": "code",
   "execution_count": null,
   "metadata": {},
   "outputs": [],
   "source": [
    "list(set(L))"
   ]
  },
  {
   "cell_type": "markdown",
   "metadata": {},
   "source": [
    "## slicing examples"
   ]
  },
  {
   "cell_type": "code",
   "execution_count": 1,
   "metadata": {},
   "outputs": [
    {
     "name": "stdout",
     "output_type": "stream",
     "text": [
      "  Dimension: 1\n",
      "       Size: 10\n",
      "      Shape: (10,)\n",
      "  Data Type: int32\n",
      "  Item Size: 4\n",
      "Data Buffer: <memory at 0x000001DD16D6E348>\n",
      "[0 1 2 3 4 5 6 7 8 9]\n"
     ]
    }
   ],
   "source": [
    "import numpy as np\n",
    "def show(the_array, show_data = 0):\n",
    "    print(\"  Dimension: {:}\".format(the_array.ndim))\n",
    "    print(\"       Size: {:}\".format(the_array.size))\n",
    "    print(\"      Shape: {:}\".format(the_array.shape))    \n",
    "    print(\"  Data Type: {:}\".format(the_array.dtype))    \n",
    "    print(\"  Item Size: {:}\".format(the_array.itemsize))\n",
    "    print(\"Data Buffer: {:}\".format(the_array.data))\n",
    "    if show_data:\n",
    "        print(the_array)\n",
    "x = np.array(range(10))\n",
    "show(x, 1)"
   ]
  },
  {
   "cell_type": "code",
   "execution_count": 2,
   "metadata": {},
   "outputs": [
    {
     "name": "stdout",
     "output_type": "stream",
     "text": [
      "  Dimension: 2\n",
      "       Size: 25\n",
      "      Shape: (5, 5)\n",
      "  Data Type: int32\n",
      "  Item Size: 4\n",
      "Data Buffer: <memory at 0x0000019B750E2048>\n",
      "[[ 0  1  2  3  4]\n",
      " [ 5  6  7  8  9]\n",
      " [10 11 12 13 14]\n",
      " [15 16 17 18 19]\n",
      " [20 21 22 23 24]]\n"
     ]
    }
   ],
   "source": [
    "y = np.array(range(25)).reshape(5, 5)\n",
    "show(y, 1)"
   ]
  },
  {
   "cell_type": "code",
   "execution_count": 17,
   "metadata": {},
   "outputs": [],
   "source": [
    "a = x[:8].copy()\n",
    "a[2] = 1673"
   ]
  },
  {
   "cell_type": "code",
   "execution_count": 18,
   "metadata": {},
   "outputs": [
    {
     "data": {
      "text/plain": [
       "(array([   0,    1, 1673,    3,    4,    5,    6,    7]),\n",
       " array([ 0,  1, 99,  3,  4,  5,  6,  7,  8,  9]))"
      ]
     },
     "execution_count": 18,
     "metadata": {},
     "output_type": "execute_result"
    }
   ],
   "source": [
    "a, x\n"
   ]
  },
  {
   "cell_type": "code",
   "execution_count": 19,
   "metadata": {},
   "outputs": [],
   "source": [
    "b = y[1:, -1:]"
   ]
  },
  {
   "cell_type": "code",
   "execution_count": 20,
   "metadata": {},
   "outputs": [
    {
     "data": {
      "text/plain": [
       "(array([[ 0,  1,  2,  3,  4],\n",
       "        [ 5,  6,  7,  8,  9],\n",
       "        [10, 11, 12, 13, 14],\n",
       "        [15, 16, 17, 18, 19],\n",
       "        [20, 21, 22, 23, 24]]), array([[ 9],\n",
       "        [14],\n",
       "        [19],\n",
       "        [24]]))"
      ]
     },
     "execution_count": 20,
     "metadata": {},
     "output_type": "execute_result"
    }
   ],
   "source": [
    "y, b"
   ]
  },
  {
   "cell_type": "code",
   "execution_count": 2,
   "metadata": {},
   "outputs": [
    {
     "name": "stdout",
     "output_type": "stream",
     "text": [
      "  Dimension: 2\n",
      "       Size: 25\n",
      "      Shape: (5, 5)\n",
      "  Data Type: int32\n",
      "  Item Size: 4\n",
      "Data Buffer: <memory at 0x000001DD16DD3048>\n",
      "[[ 0  1  2  3  4]\n",
      " [ 5  6  7  8  9]\n",
      " [10 11 12 13 14]\n",
      " [15 16 17 18 19]\n",
      " [20 21 22 23 24]]\n"
     ]
    }
   ],
   "source": [
    "# What I was trying to in class but couldn't -- slice the \"middle\" of the array\n",
    "y = np.array(range(25)).reshape(5, 5)\n",
    "show(y, 1)"
   ]
  },
  {
   "cell_type": "code",
   "execution_count": 4,
   "metadata": {},
   "outputs": [
    {
     "data": {
      "text/plain": [
       "array([[ 6,  7,  8],\n",
       "       [11, 12, 13],\n",
       "       [16, 17, 18]])"
      ]
     },
     "execution_count": 4,
     "metadata": {},
     "output_type": "execute_result"
    }
   ],
   "source": [
    "#It's so simple when you're not under presssure!\n",
    "y[1:-1,1:-1]"
   ]
  },
  {
   "cell_type": "code",
   "execution_count": null,
   "metadata": {},
   "outputs": [],
   "source": []
  }
 ],
 "metadata": {
  "kernelspec": {
   "display_name": "Python 3",
   "language": "python",
   "name": "python3"
  },
  "language_info": {
   "codemirror_mode": {
    "name": "ipython",
    "version": 3
   },
   "file_extension": ".py",
   "mimetype": "text/x-python",
   "name": "python",
   "nbconvert_exporter": "python",
   "pygments_lexer": "ipython3",
   "version": "3.6.4"
  }
 },
 "nbformat": 4,
 "nbformat_minor": 2
}
