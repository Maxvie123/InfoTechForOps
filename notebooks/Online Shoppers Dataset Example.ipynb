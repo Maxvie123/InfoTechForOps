{
 "cells": [
  {
   "cell_type": "markdown",
   "metadata": {},
   "source": [
    "# Online Shoppers Purchasing Intention Dataset Data Set \n",
    "Source: https://archive.ics.uci.edu/ml/datasets/Online+Shoppers+Purchasing+Intention+Dataset\n",
    "        \n",
    "Description: <a href=\"..\\data\\Online_shoppers-Description.pdf\">Online shoppers - Description.pdf</a>"
   ]
  },
  {
   "cell_type": "markdown",
   "metadata": {},
   "source": [
    "## Reading the data sets\n",
    "Initially, we are simply reading the data in as strings and are not doing any data type converions. We'll get to that in a little bit."
   ]
  },
  {
   "cell_type": "code",
   "execution_count": 1,
   "metadata": {},
   "outputs": [
    {
     "name": "stdout",
     "output_type": "stream",
     "text": [
      "one\ttwo\tthree\n",
      "four\tfive\tsix\n",
      "seven\teight\tnine\n"
     ]
    }
   ],
   "source": [
    "# Define a \"show\" function - note the default value for the (now) optional parameter.\n",
    "#  dataset is a list of lists of strings.\n",
    "def show(dataset = [[\"No dataset sent\"]]):\n",
    "    for r in dataset:\n",
    "        # print elements in a tab-separated format\n",
    "        print (\"\\t\".join(r))\n",
    "\n",
    "# sample function calls\n",
    "show([[\"one\", \"two\", \"three\"], [\"four\", \"five\", \"six\"], [\"seven\", \"eight\", \"nine\"]])\n",
    "#show()"
   ]
  },
  {
   "cell_type": "markdown",
   "metadata": {},
   "source": [
    "### Start with the \"vertical\" version of the dataset"
   ]
  },
  {
   "cell_type": "code",
   "execution_count": null,
   "metadata": {},
   "outputs": [],
   "source": [
    "#\n",
    "# Initial version - \"standard programming\"\n",
    "#\n",
    "# Define a list for the data.  The data structure will be a list of lists.\n",
    "data = []\n",
    "# open the file\n",
    "fname = \"..\\data\\Online_shoppers.csv\"\n",
    "f = open(fname, \"r\")\n",
    "# ignore the first 1 line(header)\n",
    "for i in range(2):\n",
    "    line = f.readline()\n",
    "# loop until we run out of lines\n",
    "while (line):\n",
    "    # strip the newline and tokenize (split on commas, in this case)\n",
    "    tokens = line.rstrip().split(',')\n",
    "    # append this record to the dataset\n",
    "    data.append(tokens)\n",
    "    # read the next line\n",
    "    line = f.readline()\n",
    "# close the file\n",
    "f.close()\n",
    "# show the data\n",
    "show(data)"
   ]
  },
  {
   "cell_type": "code",
   "execution_count": null,
   "metadata": {},
   "outputs": [],
   "source": [
    "#\n",
    "# Python-esque version 1\n",
    "#\n",
    "# Grab all the lines from the file starting with line 2, strip\n",
    "# the newline and tokenize\n",
    "with open(\"..\\data\\Online_shoppers.csv\") as f:\n",
    "    vdataset = [line.rstrip().split(',') for line in f.readlines()[1:]]\n",
    "# show the data\n",
    "show(vdataset)\n"
   ]
  },
  {
   "cell_type": "code",
   "execution_count": null,
   "metadata": {},
   "outputs": [],
   "source": [
    "#\n",
    "# Python-esque version 2 - this time as a list of strings\n",
    "#\n",
    "# use the csv module\n",
    "import csv\n",
    "ds = []\n",
    "with open(\"..\\data\\Online_shoppers.csv\") as f:\n",
    "    reader = csv.reader(f)\n",
    "    for row in reader:\n",
    "        ds.append(row)\n",
    "# show the data\n",
    "show(ds)"
   ]
  }
 ],
 "metadata": {
  "kernelspec": {
   "display_name": "Python 3",
   "language": "python",
   "name": "python3"
  },
  "language_info": {
   "codemirror_mode": {
    "name": "ipython",
    "version": 3
   },
   "file_extension": ".py",
   "mimetype": "text/x-python",
   "name": "python",
   "nbconvert_exporter": "python",
   "pygments_lexer": "ipython3",
   "version": "3.7.3"
  }
 },
 "nbformat": 4,
 "nbformat_minor": 2
}
