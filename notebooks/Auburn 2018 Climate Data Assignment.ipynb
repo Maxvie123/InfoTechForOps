{
 "cells": [
  {
   "cell_type": "markdown",
   "metadata": {},
   "source": [
    "# Assignment 3 - Auburn Daily Climate Data from 2018\n",
    "\n",
    "Generated the input data from: https://www.ncdc.noaa.gov/cdo-web/datasets\n",
    "\n",
    "Similar to the VanderPlas stuff on the Seattle rain in notebook 02.06.  That notebook will help you with this assignment - many of these problems are done almost verbatim there (but with the Seattle data).\n",
    "\n",
    "For all problems that involve displaying numerical data, make sure to use an appropriate 'user friendly' data format.  This means use an appropriate number of decimal places, comma sparators on the thousands, etc.  This can easily be done using the string.format() function."
   ]
  },
  {
   "cell_type": "code",
   "execution_count": null,
   "metadata": {},
   "outputs": [],
   "source": [
    "# Some setup ...\n",
    "# Import some tools\n",
    "%matplotlib inline\n",
    "import numpy as np\n",
    "import pandas as pd\n",
    "import matplotlib.pyplot as plt\n",
    "\n",
    "# function to show a NumyPy arrray with its attributes\n",
    "def show(the_array, show_data = 0):\n",
    "    print(\"  Dimension: {:}\".format(the_array.ndim))\n",
    "    print(\"       Size: {:}\".format(the_array.size))\n",
    "    print(\"      Shape: {:}\".format(the_array.shape))    \n",
    "    print(\"  Data Type: {:}\".format(the_array.dtype))    \n",
    "    print(\"  Item Size: {:}\".format(the_array.itemsize))\n",
    "    print(\"Data Buffer: {:}\".format(the_array.data))\n",
    "    if show_data:\n",
    "        print(the_array)"
   ]
  },
  {
   "cell_type": "markdown",
   "metadata": {},
   "source": [
    "## Read the Data and Create the NumPy Arrays"
   ]
  },
  {
   "cell_type": "code",
   "execution_count": null,
   "metadata": {},
   "outputs": [],
   "source": [
    "# Read the data into a Pandas dataframe and show the first 5 rows (just to \"see\" the data)\n",
    "df = pd.read_csv(\"../data/AuburnClimateData2018.csv\")\n",
    "df.head()"
   ]
  },
  {
   "cell_type": "code",
   "execution_count": null,
   "metadata": {},
   "outputs": [],
   "source": [
    "# Grab the Precipitation values as a NumPy array\n",
    "precip = df['PRCP'].values\n",
    "show(precip)"
   ]
  },
  {
   "cell_type": "markdown",
   "metadata": {},
   "source": [
    "Prob 1. In the next cell, use the NumPy array functions to compute the mean, standard deviation, min, and max precipitation  values over the year.  Make sure that you show the computed values and remember to use appropriate 'user friendly' formats for displaying the numbers."
   ]
  },
  {
   "cell_type": "code",
   "execution_count": null,
   "metadata": {},
   "outputs": [],
   "source": []
  },
  {
   "cell_type": "code",
   "execution_count": null,
   "metadata": {},
   "outputs": [],
   "source": [
    "# Grab the Temperature values, slice as a Pandas dataframe and then store\n",
    "# the values as a NumPy array\n",
    "tempdf = df[['TMAX', 'TMIN', 'TOBS']]\n",
    "temp = tempdf.values\n",
    "show(temp)"
   ]
  },
  {
   "cell_type": "markdown",
   "metadata": {},
   "source": [
    "Prob 2.  In the next cell, use the NumPy array functions to compute the mean, standard deviation, min, and max (descriptive statistics) of the daily temperature values.  Note that we have three different temperature measurements for each day - TMAX, TMIN, and TOBS - so you need to compute the descriptive statistics of all three (hint -- use the axis parameter in the function calls).  "
   ]
  },
  {
   "cell_type": "code",
   "execution_count": null,
   "metadata": {},
   "outputs": [],
   "source": [
    "temp.max(axis=0)"
   ]
  },
  {
   "cell_type": "code",
   "execution_count": null,
   "metadata": {},
   "outputs": [],
   "source": [
    "# Create an array for TMAX (the maximum daily temperature)\n",
    "tmax = df['TMAX']\n",
    "show(tmax)"
   ]
  },
  {
   "cell_type": "markdown",
   "metadata": {},
   "source": [
    "Prob 3.  Count the number of days where the maximum temperature was 85 degrees or hotter."
   ]
  },
  {
   "cell_type": "code",
   "execution_count": null,
   "metadata": {},
   "outputs": [],
   "source": []
  },
  {
   "cell_type": "markdown",
   "metadata": {},
   "source": [
    "Prob 4.  Count the number of days where the maximum temperature was below 40 degrees."
   ]
  },
  {
   "cell_type": "code",
   "execution_count": null,
   "metadata": {},
   "outputs": [],
   "source": []
  },
  {
   "cell_type": "markdown",
   "metadata": {},
   "source": [
    "Prob 5.  Create a histogram of the daily maximum temperature (using Matplotlib)"
   ]
  },
  {
   "cell_type": "code",
   "execution_count": null,
   "metadata": {},
   "outputs": [],
   "source": []
  },
  {
   "cell_type": "markdown",
   "metadata": {},
   "source": [
    "Prob 6. Create masks for Summer days and \"not summer days\" (use the same dates that Vanderplas uses to define \"summer\") and compute the mean, std. dev., min, and max values of of the TMAX during a) the summer; and b) the \"not summer\"."
   ]
  },
  {
   "cell_type": "code",
   "execution_count": null,
   "metadata": {},
   "outputs": [],
   "source": []
  }
 ],
 "metadata": {
  "kernelspec": {
   "display_name": "Python 3",
   "language": "python",
   "name": "python3"
  },
  "language_info": {
   "codemirror_mode": {
    "name": "ipython",
    "version": 3
   },
   "file_extension": ".py",
   "mimetype": "text/x-python",
   "name": "python",
   "nbconvert_exporter": "python",
   "pygments_lexer": "ipython3",
   "version": "3.7.3"
  }
 },
 "nbformat": 4,
 "nbformat_minor": 2
}
