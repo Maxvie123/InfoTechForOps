{
 "cells": [
  {
   "cell_type": "markdown",
   "metadata": {},
   "source": [
    "# Introduction to NumPy\n",
    "\n",
    "Lots of these notes are from Chapter 2 of VanderPlas -- you should definitely go through his chapter carefully.  I will use the book notes and these in class.\n",
    "\n",
    "The NumPy documentation: https://docs.scipy.org/doc/numpy/"
   ]
  },
  {
   "cell_type": "code",
   "execution_count": 1,
   "metadata": {},
   "outputs": [],
   "source": [
    "# import the NumPy module and display the version number\n",
    "import numpy as np\n",
    "np.__version__\n",
    "\n",
    "# Create a function to display the array attributes and data (optinally).  \n",
    "#  Note the use of the default value for the show_data parameter.  Made\n",
    "#  this part of the display optional (and off by default) to support large\n",
    "#  arrays (that you wouldn't want to try to show explicitly)\n",
    "def show(the_array, show_data = 0):\n",
    "    print(\"  Dimension: {:}\".format(the_array.ndim))\n",
    "    print(\"       Size: {:}\".format(the_array.size))\n",
    "    print(\"      Shape: {:}\".format(the_array.shape))    \n",
    "    print(\"  Data Type: {:}\".format(the_array.dtype))    \n",
    "    print(\"  Item Size: {:}\".format(the_array.itemsize))\n",
    "    print(\"Data Buffer: {:}\".format(the_array.data))\n",
    "    if show_data:\n",
    "        print(the_array)"
   ]
  },
  {
   "cell_type": "markdown",
   "metadata": {},
   "source": [
    "## NumPy Arrays\n",
    "### Creating Arrays and Access Elements"
   ]
  },
  {
   "cell_type": "code",
   "execution_count": null,
   "metadata": {},
   "outputs": [],
   "source": [
    "# Create a NumPy array from a list\n",
    "a = np.array([1.5, 0.7, 22.4])\n",
    "show(a, 1)"
   ]
  },
  {
   "cell_type": "code",
   "execution_count": null,
   "metadata": {},
   "outputs": [],
   "source": [
    "# The second element\n",
    "a[1]"
   ]
  },
  {
   "cell_type": "code",
   "execution_count": null,
   "metadata": {},
   "outputs": [],
   "source": [
    "# Multi-dimensional array.  Note that NumPy arrays are homogenous -- all\n",
    "#   elements are the same data type (dtype) -- integers in this case\n",
    "b = np.array(\n",
    "    [ [1,  2,  3,  4,   5]\n",
    "     ,[6,  7,  8,  9,  10]\n",
    "     ,[11, 12, 13, 14, 15] ] )\n",
    "show(b, 1)"
   ]
  },
  {
   "cell_type": "code",
   "execution_count": null,
   "metadata": {},
   "outputs": [],
   "source": [
    "# the (i, j)the element\n",
    "i = 2\n",
    "j = 3\n",
    "b[i, j]"
   ]
  },
  {
   "cell_type": "code",
   "execution_count": null,
   "metadata": {},
   "outputs": [],
   "source": [
    "# Note that if one elements is a float, all will be upcast since\n",
    "# NumPy arrays are homogeneous\n",
    "b = np.array(\n",
    "    [ [1.0,  2,  3,  4,   5]\n",
    "     ,[6,  7,  8,  9,  10]\n",
    "     ,[11, 12, 13, 14, 15] ] )\n",
    "show(b,1)\n",
    "# since Python lists are heterogeneous (in data types), there\n",
    "# is no upcasting and a similar definition would have a list of lists\n",
    "# with 1 float and the rest integers."
   ]
  },
  {
   "cell_type": "code",
   "execution_count": null,
   "metadata": {},
   "outputs": [],
   "source": [
    "# zeros to create and array and initialize with zeros. Ones() works similarly.\n",
    "c = np.zeros((3, 8), dtype=int)\n",
    "show(c, 1)"
   ]
  },
  {
   "cell_type": "code",
   "execution_count": null,
   "metadata": {},
   "outputs": [],
   "source": [
    "# full() for arbitrary values\n",
    "c = np.full((3, 3, 3), 82.6)\n",
    "show(c, 1)"
   ]
  },
  {
   "cell_type": "code",
   "execution_count": null,
   "metadata": {},
   "outputs": [],
   "source": [
    "# Create a NumPy array and initialize it with integers from 0 - 14 using\n",
    "#   the arange() function.\n",
    "a = np.arange(15)\n",
    "show(a, 1)"
   ]
  },
  {
   "cell_type": "code",
   "execution_count": null,
   "metadata": {
    "scrolled": true
   },
   "outputs": [],
   "source": [
    "# Create the same array, but then reshape it to a 3x5 matrix (a \n",
    "#   2-dimensional array, technically)\n",
    "a = np.arange(15).reshape(3,5)\n",
    "show(a, 1)"
   ]
  },
  {
   "cell_type": "code",
   "execution_count": null,
   "metadata": {},
   "outputs": [],
   "source": [
    "# Create a 20-element array of floats form 0 - 19 and reshape it to a 5x4 array.\n",
    "# Note that we create an anonymous array and send that to\n",
    "# the show() function.  The structure will be garbage-collected\n",
    "# after the function call since it is anonymous.\n",
    "show(np.arange(20.0).reshape(5,4), 1)"
   ]
  },
  {
   "cell_type": "code",
   "execution_count": null,
   "metadata": {},
   "outputs": [],
   "source": [
    "# Use a comprehension - From VanderPlas\n",
    "# Nested lists result in multi-dimensional arrays\n",
    "# Creating an anonymous array (see above)\n",
    "show(np.array([range(i, i + 3) for i in [2, 4, 6]]), 1)"
   ]
  },
  {
   "cell_type": "code",
   "execution_count": null,
   "metadata": {},
   "outputs": [],
   "source": [
    "# Show the details of what's going in the above\n",
    "[range(i, i + 3) for i in [2, 4, 6]]"
   ]
  },
  {
   "cell_type": "code",
   "execution_count": null,
   "metadata": {},
   "outputs": [],
   "source": [
    "[list(range(i, i + 3)) for i in [2, 4, 6]]"
   ]
  },
  {
   "cell_type": "code",
   "execution_count": null,
   "metadata": {},
   "outputs": [],
   "source": [
    "# Create a 3x3 array of normally distributed random values\n",
    "# with mean 96 and standard deviation 14\n",
    "c = np.random.normal(96, 14, (3, 3))\n",
    "show(c,1)"
   ]
  },
  {
   "cell_type": "code",
   "execution_count": null,
   "metadata": {},
   "outputs": [],
   "source": [
    "# Some more samples from VanderPlas\n",
    "np.random.seed(0)  # seed for reproducibility\n",
    "\n",
    "x1 = np.random.randint(10, size=6)  # One-dimensional array\n",
    "x2 = np.random.randint(10, size=(3, 4))  # Two-dimensional array\n",
    "x3 = np.random.randint(10, size=(3, 4, 5))  # Three-dimensional array"
   ]
  },
  {
   "cell_type": "code",
   "execution_count": null,
   "metadata": {},
   "outputs": [],
   "source": [
    "# Iterating through a Python list of NumPy arrays.\n",
    "al = [x1, x2, x3]\n",
    "for a in al:\n",
    "    show(a, 1)\n",
    "    print(\"\")"
   ]
  },
  {
   "cell_type": "code",
   "execution_count": null,
   "metadata": {},
   "outputs": [],
   "source": [
    "# Element (1, 2, 3) from x3\n",
    "x3[1, 2, 3]"
   ]
  },
  {
   "cell_type": "code",
   "execution_count": null,
   "metadata": {},
   "outputs": [],
   "source": [
    "# flatten a multi-dimensional array\n",
    "show(x3.flatten(), 1)"
   ]
  },
  {
   "cell_type": "code",
   "execution_count": null,
   "metadata": {},
   "outputs": [],
   "source": [
    "# NumPy arrays are mutable.\n",
    "x2[0,0] = 12\n",
    "x2"
   ]
  },
  {
   "cell_type": "code",
   "execution_count": null,
   "metadata": {},
   "outputs": [],
   "source": [
    "# Note the behavior when we try to assign a different data type ...\n",
    "x2[1, 1] = 7.325\n",
    "show(x2,1)"
   ]
  },
  {
   "cell_type": "markdown",
   "metadata": {},
   "source": [
    " ### Slices - Views and copies"
   ]
  },
  {
   "cell_type": "code",
   "execution_count": null,
   "metadata": {},
   "outputs": [],
   "source": [
    "# slice example - upper-left 2x3 sub-matrix\n",
    "# :2 - rows 0, 1\n",
    "# :3 - columns 0, 1, 2\n",
    "x2[:2, :3]"
   ]
  },
  {
   "cell_type": "code",
   "execution_count": null,
   "metadata": {},
   "outputs": [],
   "source": [
    "# lower right 2x3\n",
    "x2[-2:, -3:]"
   ]
  },
  {
   "cell_type": "code",
   "execution_count": null,
   "metadata": {},
   "outputs": [],
   "source": [
    "# middle 1x2\n",
    "x2[1:-1, 1:-1]"
   ]
  },
  {
   "cell_type": "code",
   "execution_count": null,
   "metadata": {},
   "outputs": [],
   "source": [
    "# note that slices are (by default) views of the array, not copies.\n",
    "x = x2[:2, :3]\n",
    "x, x2"
   ]
  },
  {
   "cell_type": "code",
   "execution_count": null,
   "metadata": {},
   "outputs": [],
   "source": [
    "x[0, 0] = 477\n",
    "x, x2"
   ]
  },
  {
   "cell_type": "code",
   "execution_count": null,
   "metadata": {},
   "outputs": [],
   "source": [
    "# If you want a copy, rather than a view, use the copy() function.\n",
    "x = x2[:2, :3].copy()\n",
    "x[0, 0] = 976\n",
    "x, x2"
   ]
  },
  {
   "cell_type": "markdown",
   "metadata": {},
   "source": [
    "## Axes and Aggregate Functions"
   ]
  },
  {
   "cell_type": "code",
   "execution_count": null,
   "metadata": {},
   "outputs": [],
   "source": [
    "a = np.random.normal(5, 1, (5, 3))\n",
    "show(a, 1)"
   ]
  },
  {
   "cell_type": "code",
   "execution_count": null,
   "metadata": {},
   "outputs": [],
   "source": [
    "# Overall sum -- all elements of the array\n",
    "a.sum()"
   ]
  },
  {
   "cell_type": "code",
   "execution_count": null,
   "metadata": {},
   "outputs": [],
   "source": [
    "# Sum along an axis\n",
    "a.sum(axis=0)"
   ]
  },
  {
   "cell_type": "code",
   "execution_count": null,
   "metadata": {},
   "outputs": [],
   "source": [
    "# Sum along the other axis\n",
    "a.sum(axis=1)"
   ]
  },
  {
   "cell_type": "code",
   "execution_count": null,
   "metadata": {},
   "outputs": [],
   "source": [
    "# the average of the 3rd column\n",
    "a.mean(axis=0)[2]"
   ]
  },
  {
   "cell_type": "code",
   "execution_count": null,
   "metadata": {},
   "outputs": [],
   "source": [
    "# or\n",
    "ax = 0\n",
    "a.sum(axis=ax)[2]/a.shape[ax]"
   ]
  },
  {
   "cell_type": "code",
   "execution_count": null,
   "metadata": {},
   "outputs": [],
   "source": [
    "# average of the 4th row\n",
    "a.mean(axis=1)[3]"
   ]
  },
  {
   "cell_type": "code",
   "execution_count": null,
   "metadata": {},
   "outputs": [],
   "source": [
    "# or\n",
    "ax = 1\n",
    "a.sum(axis=ax)[3]/a.shape[ax]"
   ]
  },
  {
   "cell_type": "code",
   "execution_count": null,
   "metadata": {},
   "outputs": [],
   "source": [
    "b = np.random.randint(1, 6, (3, 4, 6))\n",
    "show(b, 1)"
   ]
  },
  {
   "cell_type": "code",
   "execution_count": null,
   "metadata": {},
   "outputs": [],
   "source": [
    "# Mean of the \"planes\"\n",
    "b.mean(axis=0)"
   ]
  },
  {
   "cell_type": "code",
   "execution_count": null,
   "metadata": {},
   "outputs": [],
   "source": [
    "# Mean of the ?\n",
    "b.mean(axis=1)"
   ]
  },
  {
   "cell_type": "code",
   "execution_count": null,
   "metadata": {},
   "outputs": [],
   "source": [
    "# Mean of the ?\n",
    "b.mean(axis=2)"
   ]
  },
  {
   "cell_type": "markdown",
   "metadata": {},
   "source": [
    "## Example with A Dataset from a CSV file"
   ]
  },
  {
   "cell_type": "code",
   "execution_count": 2,
   "metadata": {},
   "outputs": [
    {
     "name": "stdout",
     "output_type": "stream",
     "text": [
      "  Dimension: 2\n",
      "       Size: 1500\n",
      "      Shape: (100, 15)\n",
      "  Data Type: float64\n",
      "  Item Size: 8\n",
      "Data Buffer: <memory at 0x0000025B3CC611F8>\n"
     ]
    }
   ],
   "source": [
    "# erv.csv data - a (100x15 matrix of floats)\n",
    "erv = np.genfromtxt('..\\data\\erv.csv', delimiter=',')\n",
    "show(erv)"
   ]
  },
  {
   "cell_type": "code",
   "execution_count": 3,
   "metadata": {},
   "outputs": [
    {
     "name": "stdout",
     "output_type": "stream",
     "text": [
      "[ 0.22  5.36  1.98 35.32 48.09]\n",
      "[  3.99   4.78   1.22  29.07 109.35]\n",
      "[20.66  7.76 36.47 39.85 38.02]\n",
      "[  5.59   4.76  28.7   34.22 134.96]\n",
      "[  1.62  90.95  29.76 107.63  11.08]\n"
     ]
    }
   ],
   "source": [
    "# show a sample - upper left 5x5 (first five columns of the first 5 rows)\n",
    "for r in erv[:5, :5]:\n",
    "    print(r)"
   ]
  },
  {
   "cell_type": "code",
   "execution_count": 4,
   "metadata": {},
   "outputs": [
    {
     "data": {
      "text/plain": [
       "array([  9.2296,  21.6065,  28.6991,  36.4711,  48.6776,  54.2314,\n",
       "        79.2063,  77.4339,  85.6077, 112.5114, 105.0612, 123.1152,\n",
       "       131.3249, 132.1598, 156.4597])"
      ]
     },
     "execution_count": 4,
     "metadata": {},
     "output_type": "execute_result"
    }
   ],
   "source": [
    "# Use the aggregate sum to find the column averages in one statement.\n",
    "erv.mean(axis=0)"
   ]
  },
  {
   "cell_type": "code",
   "execution_count": 5,
   "metadata": {},
   "outputs": [
    {
     "data": {
      "text/plain": [
       "array([ 78.02866667,  92.166     ,  73.764     ,  57.00933333,\n",
       "        59.876     , 124.12333333,  85.378     ,  65.43266667,\n",
       "        46.35133333, 136.89133333,  88.27533333,  75.19666667,\n",
       "        54.752     ,  87.37733333,  36.92733333,  78.30266667,\n",
       "        72.09266667, 128.402     ,  51.75933333,  60.85733333,\n",
       "        77.50666667,  57.668     ,  81.382     ,  77.04      ,\n",
       "        70.62      ,  68.06133333,  84.17      ,  63.65133333,\n",
       "        85.58666667,  55.446     , 141.91866667,  57.30133333,\n",
       "        72.02466667, 127.31466667,  73.38733333,  98.86866667,\n",
       "        66.636     ,  50.06066667,  57.06666667,  94.158     ,\n",
       "       110.21866667,  74.77333333,  75.82733333,  57.77066667,\n",
       "        87.88333333,  83.04466667,  67.39      , 141.96666667,\n",
       "        62.26      ,  80.422     ,  95.04733333,  51.626     ,\n",
       "        93.442     ,  78.08333333,  71.58466667,  60.48733333,\n",
       "        66.062     ,  68.28533333,  57.32933333,  94.45733333,\n",
       "        86.84866667,  53.53733333, 107.23066667,  39.38333333,\n",
       "        87.83266667,  66.32266667, 124.22266667,  85.34066667,\n",
       "        83.59533333, 111.674     ,  77.35533333,  67.626     ,\n",
       "        58.04266667,  78.59333333, 154.40866667, 107.55733333,\n",
       "       108.22333333,  63.97866667,  79.74466667, 104.08533333,\n",
       "        81.32066667,  64.092     ,  94.95666667,  88.29333333,\n",
       "        52.572     ,  80.81666667,  69.796     ,  96.72      ,\n",
       "        54.41666667, 127.42066667,  77.1       ,  84.84333333,\n",
       "        57.40733333,  82.24933333,  83.13733333,  73.344     ,\n",
       "        79.63133333,  70.798     ,  83.82533333,  72.832     ])"
      ]
     },
     "execution_count": 5,
     "metadata": {},
     "output_type": "execute_result"
    }
   ],
   "source": [
    "# row averages\n",
    "erv.mean(axis=1)"
   ]
  },
  {
   "cell_type": "code",
   "execution_count": 6,
   "metadata": {},
   "outputs": [],
   "source": [
    "# Load matplotlib\n",
    "%matplotlib inline\n",
    "import matplotlib.pyplot as plt"
   ]
  },
  {
   "cell_type": "code",
   "execution_count": 7,
   "metadata": {},
   "outputs": [
    {
     "data": {
      "image/png": "[encoded data removed]",
      "text/plain": [
       "<matplotlib.figure.Figure at 0x25b3d8d5198>"
      ]
     },
     "metadata": {},
     "output_type": "display_data"
    }
   ],
   "source": [
    "# Show a histogram of the jth column (j between 0 and 14)\n",
    "j = 9\n",
    "plt.hist(erv[:,j])\n",
    "plt.show()"
   ]
  },
  {
   "cell_type": "code",
   "execution_count": null,
   "metadata": {},
   "outputs": [],
   "source": [
    "# show histograms of all 15 columns in a single plot\n",
    "plt.figure(figsize=(20, 8))\n",
    "for j in range(1, 16):\n",
    "    plt.subplot(3,5,j)\n",
    "    plt.hist(erv[:,j-1])\n",
    "plt.show()"
   ]
  },
  {
   "cell_type": "code",
   "execution_count": null,
   "metadata": {
    "scrolled": true
   },
   "outputs": [],
   "source": [
    "# or with color\n",
    "c = ['orange', 'green', 'red', 'beige', 'brown'\n",
    "    ,'dimgray', 'firebrick', 'darkkhaki', 'indigo', 'darksalmon'\n",
    "    ,'forestgreen', 'fuchsia', 'darkcyan', 'darkviolet','darkgoldenrod'\n",
    "    ]\n",
    "plt.figure(figsize=(20, 8))\n",
    "for j in range(15):\n",
    "    plt.subplot(3,5,j+1)\n",
    "    plt.hist(erv[:,j], color=c[j])\n",
    "plt.show()"
   ]
  },
  {
   "cell_type": "code",
   "execution_count": null,
   "metadata": {},
   "outputs": [],
   "source": [
    "# Scatter plot of column col1 vs column col2\n",
    "col1 = 0\n",
    "col2 = 14\n",
    "plt.scatter(erv[:, col1], erv[:, col2]);"
   ]
  },
  {
   "cell_type": "code",
   "execution_count": null,
   "metadata": {},
   "outputs": [],
   "source": [
    "plt.scatter?"
   ]
  },
  {
   "cell_type": "code",
   "execution_count": null,
   "metadata": {},
   "outputs": [],
   "source": []
  }
 ],
 "metadata": {
  "kernelspec": {
   "display_name": "Python 3",
   "language": "python",
   "name": "python3"
  },
  "language_info": {
   "codemirror_mode": {
    "name": "ipython",
    "version": 3
   },
   "file_extension": ".py",
   "mimetype": "text/x-python",
   "name": "python",
   "nbconvert_exporter": "python",
   "pygments_lexer": "ipython3",
   "version": "3.6.4"
  }
 },
 "nbformat": 4,
 "nbformat_minor": 2
}
